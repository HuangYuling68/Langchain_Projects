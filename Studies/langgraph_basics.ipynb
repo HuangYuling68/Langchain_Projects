{
 "cells": [
  {
   "cell_type": "code",
   "execution_count": 12,
   "id": "484d56b2",
   "metadata": {},
   "outputs": [],
   "source": [
    "import os\n",
    "from typing import TypedDict, Annotated, List, Union, Sequence\n",
    "import operator\n",
    "import json\n",
    "from dotenv import load_dotenv\n",
    "\n",
    "from langchain import hub\n",
    "from langchain.tools import BaseTool, StructuredTool, Tool, tool\n",
    "from langchain.tools.render import format_tool_to_openai_function\n",
    "from langchain_core.utils.function_calling import convert_to_openai_function\n",
    "from langchain_openai.chat_models import ChatOpenAI\n",
    "from langchain.agents import create_openai_functions_agent\n",
    "from langchain_core.utils.function_calling import convert_to_openai_function\n",
    "\n",
    "from langchain_core.agents import AgentAction, AgentFinish\n",
    "from langchain_core.messages import BaseMessage, HumanMessage, SystemMessage, FunctionMessage\n",
    "\n",
    "from langgraph.graph import END, StateGraph, MessagesState\n",
    "from langgraph.prebuilt import ToolNode, ToolInvocation\n",
    "from langgraph.prebuilt.tool_executor import ToolExecutor"
   ]
  },
  {
   "cell_type": "code",
   "execution_count": 13,
   "id": "4b425d85",
   "metadata": {},
   "outputs": [
    {
     "data": {
      "text/plain": [
       "True"
      ]
     },
     "execution_count": 13,
     "metadata": {},
     "output_type": "execute_result"
    }
   ],
   "source": [
    "load_dotenv()"
   ]
  },
  {
   "cell_type": "markdown",
   "id": "739e5daf",
   "metadata": {},
   "source": [
    "### core concepts\n",
    "langchain => langgraph\n",
    "\n",
    "- chain: 更多是 linear chain，链式顺序执行；\n",
    "  - LCEL\n",
    "- graph：可以有分支/判断（是否到达 AgentFinish），有循环\n",
    "  - ReAct（Reasoning & Acting）其实本质上也不是 linear chain 了；\n",
    "\n",
    "Graph\n",
    "\n",
    "- nodes, edges\n",
    "  - 每个节点都是一个函数\n",
    "  - 所有节点的输入都是 state，输出会附加一些信息到新的 state 里\n",
    "- state 沿着 edge 从一个 node 到另一个 node 时，state 会发生变化（携带上一个 node 的执行输出信息）"
   ]
  },
  {
   "cell_type": "code",
   "execution_count": 14,
   "id": "7c029d1a",
   "metadata": {},
   "outputs": [],
   "source": [
    "from IPython.display import Image"
   ]
  },
  {
   "cell_type": "code",
   "execution_count": 15,
   "id": "069a8741",
   "metadata": {},
   "outputs": [
    {
     "data": {
      "text/html": [
       "<img src=\"https://miro.medium.com/v2/resize:fit:1400/format:webp/1*bkNjqXR1LjAVJQbNLpfYvA.png\" width=\"500\"/>"
      ],
      "text/plain": [
       "<IPython.core.display.Image object>"
      ]
     },
     "execution_count": 15,
     "metadata": {},
     "output_type": "execute_result"
    }
   ],
   "source": [
    "Image(url='https://miro.medium.com/v2/resize:fit:1400/format:webp/1*bkNjqXR1LjAVJQbNLpfYvA.png', width=500)"
   ]
  },
  {
   "cell_type": "markdown",
   "id": "8ddb369e",
   "metadata": {},
   "source": [
    "### examples 1: Agent Executor"
   ]
  },
  {
   "cell_type": "code",
   "execution_count": 16,
   "id": "7db9cec4",
   "metadata": {},
   "outputs": [],
   "source": [
    "os.environ[\"LANGCHAIN_PROJECT\"] = \"lg_01_agent_executor\""
   ]
  },
  {
   "cell_type": "code",
   "execution_count": 17,
   "id": "a9c775df",
   "metadata": {},
   "outputs": [],
   "source": [
    "class AgentState(TypedDict):\n",
    "   input: str\n",
    "   chat_history: list[BaseMessage]\n",
    "   agent_outcome: Union[AgentAction, AgentFinish, None]\n",
    "    # 不断追加和传递\n",
    "   intermediate_steps: Annotated[list[tuple[AgentAction, str]], operator.add]"
   ]
  },
  {
   "cell_type": "markdown",
   "id": "468cf8ba",
   "metadata": {},
   "source": [
    "### tools\n",
    "Tools are interfaces that an agent can use to interact with the world. They combine a few things:\n",
    "\n",
    "- The name of the tool\n",
    "- A description of what the tool is\n",
    "- JSON schema of what the inputs to the tool are\n",
    "- The function to call"
   ]
  },
  {
   "cell_type": "code",
   "execution_count": 18,
   "id": "7b6a4026",
   "metadata": {},
   "outputs": [],
   "source": [
    "import random\n",
    "\n",
    "@tool(\"upper_case\", return_direct=True)\n",
    "def to_upper_case(input:str) -> str:\n",
    "  \"\"\"Returns the input as all upper case.\"\"\"\n",
    "  return input.upper()\n",
    "\n",
    "@tool(\"random_number\", return_direct=True)\n",
    "def random_number_maker(input:str) -> str:\n",
    "    \"\"\"Returns a random number between 0-100.\"\"\"\n",
    "    return random.randint(0, 100)\n",
    "\n",
    "tools = [to_upper_case,random_number_maker]"
   ]
  },
  {
   "cell_type": "code",
   "execution_count": 19,
   "id": "33b1c268",
   "metadata": {},
   "outputs": [
    {
     "data": {
      "text/plain": [
       "6"
      ]
     },
     "execution_count": 19,
     "metadata": {},
     "output_type": "execute_result"
    }
   ],
   "source": [
    "random_number_maker.run('random')"
   ]
  },
  {
   "cell_type": "code",
   "execution_count": 20,
   "id": "faae9afd",
   "metadata": {},
   "outputs": [
    {
     "data": {
      "text/plain": [
       "'HELLO WORLD'"
      ]
     },
     "execution_count": 20,
     "metadata": {},
     "output_type": "execute_result"
    }
   ],
   "source": [
    "to_upper_case.run('hello WORLD')"
   ]
  },
  {
   "cell_type": "markdown",
   "id": "060f4e36",
   "metadata": {},
   "source": [
    "### Agent"
   ]
  },
  {
   "cell_type": "code",
   "execution_count": 21,
   "id": "97d0831c",
   "metadata": {},
   "outputs": [
    {
     "data": {
      "text/plain": [
       "ChatPromptTemplate(input_variables=['agent_scratchpad', 'input'], optional_variables=['chat_history'], input_types={'chat_history': list[typing.Annotated[typing.Union[typing.Annotated[langchain_core.messages.ai.AIMessage, Tag(tag='ai')], typing.Annotated[langchain_core.messages.human.HumanMessage, Tag(tag='human')], typing.Annotated[langchain_core.messages.chat.ChatMessage, Tag(tag='chat')], typing.Annotated[langchain_core.messages.system.SystemMessage, Tag(tag='system')], typing.Annotated[langchain_core.messages.function.FunctionMessage, Tag(tag='function')], typing.Annotated[langchain_core.messages.tool.ToolMessage, Tag(tag='tool')], typing.Annotated[langchain_core.messages.ai.AIMessageChunk, Tag(tag='AIMessageChunk')], typing.Annotated[langchain_core.messages.human.HumanMessageChunk, Tag(tag='HumanMessageChunk')], typing.Annotated[langchain_core.messages.chat.ChatMessageChunk, Tag(tag='ChatMessageChunk')], typing.Annotated[langchain_core.messages.system.SystemMessageChunk, Tag(tag='SystemMessageChunk')], typing.Annotated[langchain_core.messages.function.FunctionMessageChunk, Tag(tag='FunctionMessageChunk')], typing.Annotated[langchain_core.messages.tool.ToolMessageChunk, Tag(tag='ToolMessageChunk')]], FieldInfo(annotation=NoneType, required=True, discriminator=Discriminator(discriminator=<function _get_type at 0x000002A4B13EF9A0>, custom_error_type=None, custom_error_message=None, custom_error_context=None))]], 'agent_scratchpad': list[typing.Annotated[typing.Union[typing.Annotated[langchain_core.messages.ai.AIMessage, Tag(tag='ai')], typing.Annotated[langchain_core.messages.human.HumanMessage, Tag(tag='human')], typing.Annotated[langchain_core.messages.chat.ChatMessage, Tag(tag='chat')], typing.Annotated[langchain_core.messages.system.SystemMessage, Tag(tag='system')], typing.Annotated[langchain_core.messages.function.FunctionMessage, Tag(tag='function')], typing.Annotated[langchain_core.messages.tool.ToolMessage, Tag(tag='tool')], typing.Annotated[langchain_core.messages.ai.AIMessageChunk, Tag(tag='AIMessageChunk')], typing.Annotated[langchain_core.messages.human.HumanMessageChunk, Tag(tag='HumanMessageChunk')], typing.Annotated[langchain_core.messages.chat.ChatMessageChunk, Tag(tag='ChatMessageChunk')], typing.Annotated[langchain_core.messages.system.SystemMessageChunk, Tag(tag='SystemMessageChunk')], typing.Annotated[langchain_core.messages.function.FunctionMessageChunk, Tag(tag='FunctionMessageChunk')], typing.Annotated[langchain_core.messages.tool.ToolMessageChunk, Tag(tag='ToolMessageChunk')]], FieldInfo(annotation=NoneType, required=True, discriminator=Discriminator(discriminator=<function _get_type at 0x000002A4B13EF9A0>, custom_error_type=None, custom_error_message=None, custom_error_context=None))]]}, partial_variables={'chat_history': []}, metadata={'lc_hub_owner': 'hwchase17', 'lc_hub_repo': 'openai-functions-agent', 'lc_hub_commit_hash': 'a1655024b06afbd95d17449f21316291e0726f13dcfaf990cc0d18087ad689a5'}, messages=[SystemMessagePromptTemplate(prompt=PromptTemplate(input_variables=[], input_types={}, partial_variables={}, template='You are a helpful assistant'), additional_kwargs={}), MessagesPlaceholder(variable_name='chat_history', optional=True), HumanMessagePromptTemplate(prompt=PromptTemplate(input_variables=['input'], input_types={}, partial_variables={}, template='{input}'), additional_kwargs={}), MessagesPlaceholder(variable_name='agent_scratchpad')])"
      ]
     },
     "execution_count": 21,
     "metadata": {},
     "output_type": "execute_result"
    }
   ],
   "source": [
    "# https://smith.langchain.com/hub/hwchase17/openai-functions-agent\n",
    "\n",
    "prompt = hub.pull('hwchase17/openai-functions-agent')\n",
    "llm = ChatOpenAI(model=\"gpt-4o\", streaming=True)\n",
    "prompt"
   ]
  },
  {
   "cell_type": "code",
   "execution_count": 22,
   "id": "2670d399",
   "metadata": {},
   "outputs": [],
   "source": [
    "agent = create_openai_functions_agent(llm, tools, prompt)"
   ]
  },
  {
   "cell_type": "code",
   "execution_count": 23,
   "id": "d91337e4",
   "metadata": {},
   "outputs": [
    {
     "data": {
      "text/plain": [
       "langchain_core.runnables.base.RunnableSequence"
      ]
     },
     "execution_count": 23,
     "metadata": {},
     "output_type": "execute_result"
    }
   ],
   "source": [
    "type(agent)"
   ]
  },
  {
   "cell_type": "code",
   "execution_count": 24,
   "id": "4818462d",
   "metadata": {},
   "outputs": [],
   "source": [
    "inputs = {\"input\": \"give me a random number and then write in words and make it upper case.\",\n",
    "          \"chat_history\": [],\n",
    "          \"intermediate_steps\":[]}\n",
    "\n",
    "agent_outcome = agent.invoke(inputs)"
   ]
  },
  {
   "cell_type": "code",
   "execution_count": 25,
   "id": "4b54dbde",
   "metadata": {},
   "outputs": [
    {
     "data": {
      "text/plain": [
       "AgentActionMessageLog(tool='random_number', tool_input={'input': 'get a random number'}, log=\"\\nInvoking: `random_number` with `{'input': 'get a random number'}`\\n\\n\\n\", message_log=[AIMessage(content='', additional_kwargs={'function_call': {'arguments': '{\"input\":\"get a random number\"}', 'name': 'random_number'}}, response_metadata={'finish_reason': 'function_call', 'model_name': 'gpt-4o-2024-08-06', 'system_fingerprint': 'fp_80956533cb', 'service_tier': 'default'}, id='run--52ab639d-8d16-49d4-9167-c5a49272aea5-0')])"
      ]
     },
     "execution_count": 25,
     "metadata": {},
     "output_type": "execute_result"
    }
   ],
   "source": [
    "agent_outcome"
   ]
  },
  {
   "cell_type": "markdown",
   "id": "af1a4fad",
   "metadata": {},
   "source": [
    "### tools"
   ]
  },
  {
   "cell_type": "code",
   "execution_count": 26,
   "id": "3c1dbe96",
   "metadata": {},
   "outputs": [
    {
     "name": "stderr",
     "output_type": "stream",
     "text": [
      "C:\\Users\\huang\\AppData\\Local\\Temp\\ipykernel_17972\\3792225135.py:1: LangGraphDeprecationWarning: ToolExecutor is deprecated as of version 0.2.0 and will be removed in 0.3.0. Use langgraph.prebuilt.ToolNode instead.\n",
      "  tool_executor = ToolExecutor(tools)\n"
     ]
    }
   ],
   "source": [
    "tool_executor = ToolExecutor(tools)\n",
    "# tool_executor = ToolNode(tools)"
   ]
  },
  {
   "cell_type": "code",
   "execution_count": 27,
   "id": "5d9570cf",
   "metadata": {},
   "outputs": [],
   "source": [
    "def run_agent(state):\n",
    "    agent_outcome = agent.invoke(state)\n",
    "    # AgentState.agent_outcome: 当前输出，决策动作\n",
    "    return {\"agent_outcome\": agent_outcome}\n",
    "\n",
    "def execute_tools(state):\n",
    "    agent_action = state['agent_outcome']\n",
    "    output = tool_executor.invoke(agent_action)\n",
    "    print(f\"The agent action is {agent_action}\")\n",
    "    print(f\"The tool result is: {output}\")\n",
    "    # AgentState.intermediate_steps: 追加逻辑\n",
    "    return {\"intermediate_steps\": [(agent_action, str(output))]}\n",
    "\n",
    "def should_continue(state):\n",
    "    if isinstance(state['agent_outcome'], AgentFinish):\n",
    "        return \"end\"\n",
    "    return \"continue\""
   ]
  },
  {
   "cell_type": "markdown",
   "id": "23452ab7",
   "metadata": {},
   "source": [
    "### graph"
   ]
  },
  {
   "cell_type": "code",
   "execution_count": 31,
   "id": "4e52f3d3",
   "metadata": {},
   "outputs": [],
   "source": [
    "workflow = StateGraph(AgentState)\n",
    "\n",
    "workflow.add_node(\"agent\", run_agent)\n",
    "workflow.add_node(\"action\", execute_tools)\n",
    "\n",
    "workflow.set_entry_point(\"agent\")\n",
    "\n",
    "# 条件分支\n",
    "workflow.add_conditional_edges(\n",
    "    \"agent\",\n",
    "    should_continue,\n",
    "    {\n",
    "        \"continue\": \"action\",\n",
    "        \"end\": END\n",
    "    }\n",
    ")\n",
    "\n",
    "workflow.add_edge('action', 'agent')\n",
    "\n",
    "graph = workflow.compile()"
   ]
  },
  {
   "cell_type": "code",
   "execution_count": 32,
   "id": "da08dfc8",
   "metadata": {},
   "outputs": [
    {
     "data": {
      "image/png": "[encoded data removed]",
      "text/plain": [
       "<IPython.core.display.Image object>"
      ]
     },
     "metadata": {},
     "output_type": "display_data"
    }
   ],
   "source": [
    "from IPython.display import Image, display\n",
    "\n",
    "try:\n",
    "    display(Image(graph.get_graph().draw_mermaid_png()))\n",
    "except Exception:\n",
    "    # This requires some extra dependencies and is optional\n",
    "    pass"
   ]
  },
  {
   "cell_type": "code",
   "execution_count": 33,
   "id": "19e516e5",
   "metadata": {},
   "outputs": [
    {
     "data": {
      "text/plain": [
       "({'agent': StateNodeSpec(runnable=agent(tags=None, recurse=True, func_accepts_config=False, func_accepts={'writer': False, 'store': False}), metadata=None, input=<class '__main__.AgentState'>, retry_policy=None),\n",
       "  'action': StateNodeSpec(runnable=action(tags=None, recurse=True, func_accepts_config=False, func_accepts={'writer': False, 'store': False}), metadata=None, input=<class '__main__.AgentState'>, retry_policy=None)},\n",
       " {('__start__', 'agent'), ('action', 'agent')})"
      ]
     },
     "execution_count": 33,
     "metadata": {},
     "output_type": "execute_result"
    }
   ],
   "source": [
    "workflow.nodes, workflow.edges"
   ]
  },
  {
   "cell_type": "code",
   "execution_count": 34,
   "id": "dbb53449",
   "metadata": {},
   "outputs": [
    {
     "data": {
      "text/plain": [
       "{'input': <langgraph.channels.last_value.LastValue at 0x2a4da08e640>,\n",
       " 'chat_history': <langgraph.channels.last_value.LastValue at 0x2a4bbda0880>,\n",
       " 'agent_outcome': <langgraph.channels.last_value.LastValue at 0x2a4b4139b00>,\n",
       " 'intermediate_steps': <langgraph.channels.binop.BinaryOperatorAggregate at 0x2a4b40ca940>}"
      ]
     },
     "execution_count": 34,
     "metadata": {},
     "output_type": "execute_result"
    }
   ],
   "source": [
    "workflow.channels"
   ]
  },
  {
   "cell_type": "code",
   "execution_count": 35,
   "id": "3a2c9b20",
   "metadata": {},
   "outputs": [
    {
     "name": "stdout",
     "output_type": "stream",
     "text": [
      "{'agent_outcome': AgentActionMessageLog(tool='random_number', tool_input={'input': 'Generate a random number'}, log=\"\\nInvoking: `random_number` with `{'input': 'Generate a random number'}`\\n\\n\\n\", message_log=[AIMessage(content='', additional_kwargs={'function_call': {'arguments': '{\"input\":\"Generate a random number\"}', 'name': 'random_number'}}, response_metadata={'finish_reason': 'function_call', 'model_name': 'gpt-4o-2024-08-06', 'system_fingerprint': 'fp_46bff0e0c8', 'service_tier': 'default'}, id='run--e23a2b2f-c8bd-4494-ba67-54e8f166b8f7-0')])}\n",
      "----\n",
      "The agent action is tool='random_number' tool_input={'input': 'Generate a random number'} log=\"\\nInvoking: `random_number` with `{'input': 'Generate a random number'}`\\n\\n\\n\" message_log=[AIMessage(content='', additional_kwargs={'function_call': {'arguments': '{\"input\":\"Generate a random number\"}', 'name': 'random_number'}}, response_metadata={'finish_reason': 'function_call', 'model_name': 'gpt-4o-2024-08-06', 'system_fingerprint': 'fp_46bff0e0c8', 'service_tier': 'default'}, id='run--e23a2b2f-c8bd-4494-ba67-54e8f166b8f7-0')]\n",
      "The tool result is: 41\n",
      "{'intermediate_steps': [(AgentActionMessageLog(tool='random_number', tool_input={'input': 'Generate a random number'}, log=\"\\nInvoking: `random_number` with `{'input': 'Generate a random number'}`\\n\\n\\n\", message_log=[AIMessage(content='', additional_kwargs={'function_call': {'arguments': '{\"input\":\"Generate a random number\"}', 'name': 'random_number'}}, response_metadata={'finish_reason': 'function_call', 'model_name': 'gpt-4o-2024-08-06', 'system_fingerprint': 'fp_46bff0e0c8', 'service_tier': 'default'}, id='run--e23a2b2f-c8bd-4494-ba67-54e8f166b8f7-0')]), '41')]}\n",
      "----\n",
      "{'agent_outcome': AgentFinish(return_values={'output': 'The random number is 41. \\n\\nIn words, it\\'s \"forty-one.\"\\n\\nNow, let\\'s make it upper case: FORTY-ONE.'}, log='The random number is 41. \\n\\nIn words, it\\'s \"forty-one.\"\\n\\nNow, let\\'s make it upper case: FORTY-ONE.')}\n",
      "----\n"
     ]
    }
   ],
   "source": [
    "inputs = {\"input\": \"give me a random number and then write in words and make it upper case.\", \n",
    "          \"chat_history\": []}\n",
    "for s in graph.stream(inputs):\n",
    "    print(list(s.values())[0])\n",
    "    print(\"----\")"
   ]
  },
  {
   "cell_type": "code",
   "execution_count": 37,
   "id": "0bf7063d",
   "metadata": {},
   "outputs": [
    {
     "name": "stdout",
     "output_type": "stream",
     "text": [
      "The agent action is tool='random_number' tool_input={'input': 'any'} log=\"\\nInvoking: `random_number` with `{'input': 'any'}`\\n\\n\\n\" message_log=[AIMessage(content='', additional_kwargs={'function_call': {'arguments': '{\"input\":\"any\"}', 'name': 'random_number'}}, response_metadata={'finish_reason': 'function_call', 'model_name': 'gpt-4o-2024-08-06', 'system_fingerprint': 'fp_80956533cb', 'service_tier': 'default'}, id='run--db9f67d0-7976-44f9-aa08-f50284050993-0')]\n",
      "The tool result is: 6\n",
      "The agent action is tool='upper_case' tool_input={'input': 'six'} log=\"\\nInvoking: `upper_case` with `{'input': 'six'}`\\n\\n\\n\" message_log=[AIMessage(content='', additional_kwargs={'function_call': {'arguments': '{\"input\":\"six\"}', 'name': 'upper_case'}}, response_metadata={'finish_reason': 'function_call', 'model_name': 'gpt-4o-2024-08-06', 'system_fingerprint': 'fp_80956533cb', 'service_tier': 'default'}, id='run--e9e460ff-b590-43de-86de-c3ac1d739682-0')]\n",
      "The tool result is: SIX\n"
     ]
    }
   ],
   "source": [
    "inputs = {\"input\": \"give me a random number and then write in words and make it upper case\", \"chat_history\": []}\n",
    "\n",
    "output = graph.invoke(inputs)"
   ]
  },
  {
   "cell_type": "code",
   "execution_count": 38,
   "id": "20edc351",
   "metadata": {},
   "outputs": [
    {
     "data": {
      "text/plain": [
       "{'input': 'give me a random number and then write in words and make it upper case',\n",
       " 'chat_history': [],\n",
       " 'agent_outcome': AgentFinish(return_values={'output': 'The random number is **6**, and in words, it is **SIX**.'}, log='The random number is **6**, and in words, it is **SIX**.'),\n",
       " 'intermediate_steps': [(AgentActionMessageLog(tool='random_number', tool_input={'input': 'any'}, log=\"\\nInvoking: `random_number` with `{'input': 'any'}`\\n\\n\\n\", message_log=[AIMessage(content='', additional_kwargs={'function_call': {'arguments': '{\"input\":\"any\"}', 'name': 'random_number'}}, response_metadata={'finish_reason': 'function_call', 'model_name': 'gpt-4o-2024-08-06', 'system_fingerprint': 'fp_80956533cb', 'service_tier': 'default'}, id='run--db9f67d0-7976-44f9-aa08-f50284050993-0')]),\n",
       "   '6'),\n",
       "  (AgentActionMessageLog(tool='upper_case', tool_input={'input': 'six'}, log=\"\\nInvoking: `upper_case` with `{'input': 'six'}`\\n\\n\\n\", message_log=[AIMessage(content='', additional_kwargs={'function_call': {'arguments': '{\"input\":\"six\"}', 'name': 'upper_case'}}, response_metadata={'finish_reason': 'function_call', 'model_name': 'gpt-4o-2024-08-06', 'system_fingerprint': 'fp_80956533cb', 'service_tier': 'default'}, id='run--e9e460ff-b590-43de-86de-c3ac1d739682-0')]),\n",
       "   'SIX')]}"
      ]
     },
     "execution_count": 38,
     "metadata": {},
     "output_type": "execute_result"
    }
   ],
   "source": [
    "output"
   ]
  },
  {
   "cell_type": "code",
   "execution_count": 39,
   "id": "927340ff",
   "metadata": {},
   "outputs": [
    {
     "data": {
      "text/plain": [
       "AgentFinish(return_values={'output': 'The random number is **6**, and in words, it is **SIX**.'}, log='The random number is **6**, and in words, it is **SIX**.')"
      ]
     },
     "execution_count": 39,
     "metadata": {},
     "output_type": "execute_result"
    }
   ],
   "source": [
    "output.get('agent_outcome')"
   ]
  },
  {
   "cell_type": "code",
   "execution_count": 40,
   "id": "04e62236",
   "metadata": {},
   "outputs": [
    {
     "data": {
      "text/plain": [
       "'The random number is **6**, and in words, it is **SIX**.'"
      ]
     },
     "execution_count": 40,
     "metadata": {},
     "output_type": "execute_result"
    }
   ],
   "source": [
    "\n",
    "output.get('agent_outcome').return_values['output']"
   ]
  },
  {
   "cell_type": "code",
   "execution_count": 41,
   "id": "30496f19",
   "metadata": {},
   "outputs": [
    {
     "data": {
      "text/plain": [
       "[(AgentActionMessageLog(tool='random_number', tool_input={'input': 'any'}, log=\"\\nInvoking: `random_number` with `{'input': 'any'}`\\n\\n\\n\", message_log=[AIMessage(content='', additional_kwargs={'function_call': {'arguments': '{\"input\":\"any\"}', 'name': 'random_number'}}, response_metadata={'finish_reason': 'function_call', 'model_name': 'gpt-4o-2024-08-06', 'system_fingerprint': 'fp_80956533cb', 'service_tier': 'default'}, id='run--db9f67d0-7976-44f9-aa08-f50284050993-0')]),\n",
       "  '6'),\n",
       " (AgentActionMessageLog(tool='upper_case', tool_input={'input': 'six'}, log=\"\\nInvoking: `upper_case` with `{'input': 'six'}`\\n\\n\\n\", message_log=[AIMessage(content='', additional_kwargs={'function_call': {'arguments': '{\"input\":\"six\"}', 'name': 'upper_case'}}, response_metadata={'finish_reason': 'function_call', 'model_name': 'gpt-4o-2024-08-06', 'system_fingerprint': 'fp_80956533cb', 'service_tier': 'default'}, id='run--e9e460ff-b590-43de-86de-c3ac1d739682-0')]),\n",
       "  'SIX')]"
      ]
     },
     "execution_count": 41,
     "metadata": {},
     "output_type": "execute_result"
    }
   ],
   "source": [
    "output['intermediate_steps']"
   ]
  },
  {
   "cell_type": "markdown",
   "id": "c7d67ac4",
   "metadata": {},
   "source": [
    "### example 2: Chat Executor"
   ]
  },
  {
   "cell_type": "code",
   "execution_count": 42,
   "id": "a3452f83",
   "metadata": {},
   "outputs": [],
   "source": [
    "os.environ[\"LANGCHAIN_PROJECT\"] = \"lg_02_chat_executor\""
   ]
  },
  {
   "cell_type": "code",
   "execution_count": 43,
   "id": "c1863368",
   "metadata": {},
   "outputs": [],
   "source": [
    "llm = ChatOpenAI(model=\"gpt-4o\", streaming=True)"
   ]
  },
  {
   "cell_type": "code",
   "execution_count": 66,
   "id": "d85e205a",
   "metadata": {},
   "outputs": [],
   "source": [
    "functions = [convert_to_openai_function(t) for t in tools]\n",
    "llm = llm.bind_functions(functions)"
   ]
  },
  {
   "cell_type": "code",
   "execution_count": 67,
   "id": "8b2c61e9",
   "metadata": {},
   "outputs": [
    {
     "data": {
      "text/plain": [
       "[{'name': 'upper_case',\n",
       "  'description': 'Returns the input as all upper case.',\n",
       "  'parameters': {'properties': {'input': {'type': 'string'}},\n",
       "   'required': ['input'],\n",
       "   'type': 'object'}},\n",
       " {'name': 'random_number',\n",
       "  'description': 'Returns a random number between 0-100.',\n",
       "  'parameters': {'properties': {'input': {'type': 'string'}},\n",
       "   'required': ['input'],\n",
       "   'type': 'object'}}]"
      ]
     },
     "execution_count": 67,
     "metadata": {},
     "output_type": "execute_result"
    }
   ],
   "source": [
    "functions"
   ]
  },
  {
   "cell_type": "markdown",
   "id": "04dd1587",
   "metadata": {},
   "source": [
    "### agent state"
   ]
  },
  {
   "cell_type": "code",
   "execution_count": 68,
   "id": "7237766d",
   "metadata": {},
   "outputs": [],
   "source": [
    "class AgentState(TypedDict):\n",
    "    # 不断追加和传递\n",
    "    messages: Annotated[Sequence[BaseMessage], operator.add]"
   ]
  },
  {
   "cell_type": "markdown",
   "id": "87fbf0d8",
   "metadata": {},
   "source": [
    "### nodes"
   ]
  },
  {
   "cell_type": "code",
   "execution_count": 69,
   "id": "7356c814",
   "metadata": {},
   "outputs": [],
   "source": [
    "def should_continue(state):\n",
    "    messages = state['messages']\n",
    "    last_message = messages[-1]\n",
    "    if \"function_call\" not in last_message.additional_kwargs:\n",
    "        return \"end\"\n",
    "    return \"continue\"\n",
    "\n",
    "def call_model(state):\n",
    "    messages = state['messages']\n",
    "    response = llm.invoke(messages)\n",
    "    return {\"messages\": [response]}\n",
    "\n",
    "def call_tool(state):\n",
    "    messages = state['messages']\n",
    "    last_message = messages[-1]\n",
    "    action = ToolInvocation(\n",
    "        tool=last_message.additional_kwargs[\"function_call\"][\"name\"],\n",
    "        tool_input=json.loads(last_message.additional_kwargs[\"function_call\"][\"arguments\"]),\n",
    "    )\n",
    "    print(f\"The agent action is {action}\")\n",
    "    response = tool_executor.invoke(action)\n",
    "    print(f\"The tool result is: {response}\")\n",
    "    function_message = FunctionMessage(content=str(response), name=action.tool)\n",
    "    return {\"messages\": [function_message]}"
   ]
  },
  {
   "cell_type": "markdown",
   "id": "fb815f63",
   "metadata": {},
   "source": [
    "### graph"
   ]
  },
  {
   "cell_type": "code",
   "execution_count": 70,
   "id": "2b0a75e6",
   "metadata": {},
   "outputs": [],
   "source": [
    "workflow = StateGraph(AgentState)\n",
    "workflow.add_node(\"agent\", call_model)\n",
    "workflow.add_node(\"action\", call_tool)\n",
    "workflow.set_entry_point(\"agent\")\n",
    "workflow.add_conditional_edges(\n",
    "    \"agent\",\n",
    "    should_continue,\n",
    "    {\n",
    "        \"continue\": \"action\",\n",
    "        \"end\": END\n",
    "    }\n",
    ")\n",
    "workflow.add_edge('action', 'agent')\n",
    "graph2 = workflow.compile()"
   ]
  },
  {
   "cell_type": "code",
   "execution_count": 71,
   "id": "84f88e5f",
   "metadata": {},
   "outputs": [
    {
     "data": {
      "image/png": "[encoded data removed]",
      "text/plain": [
       "<IPython.core.display.Image object>"
      ]
     },
     "metadata": {},
     "output_type": "display_data"
    }
   ],
   "source": [
    "try:\n",
    "    display(Image(graph2.get_graph().draw_mermaid_png()))\n",
    "except Exception:\n",
    "    # This requires some extra dependencies and is optional\n",
    "    pass"
   ]
  },
  {
   "cell_type": "code",
   "execution_count": 72,
   "id": "9f4152ee",
   "metadata": {},
   "outputs": [],
   "source": [
    "system_message = SystemMessage(content=\"you are a helpful assistant\")\n",
    "user_q1 = HumanMessage(content=\"give me a random number and then write in words and make it upper case\")\n",
    "inputs = {\"messages\": [system_message, user_q1]}"
   ]
  },
  {
   "cell_type": "code",
   "execution_count": 73,
   "id": "1b269e92",
   "metadata": {},
   "outputs": [
    {
     "name": "stderr",
     "output_type": "stream",
     "text": [
      "C:\\Users\\huang\\AppData\\Local\\Temp\\ipykernel_17972\\3059577378.py:16: LangGraphDeprecationWarning: ToolInvocation is deprecated as of version 0.2.0 and will be removed in 0.3.0. Use langgraph.prebuilt.ToolNode instead.\n",
      "  action = ToolInvocation(\n"
     ]
    },
    {
     "name": "stdout",
     "output_type": "stream",
     "text": [
      "The agent action is tool='random_number' tool_input={'input': 'Generate a random number'}\n",
      "The tool result is: 68\n"
     ]
    },
    {
     "name": "stderr",
     "output_type": "stream",
     "text": [
      "C:\\Users\\huang\\AppData\\Local\\Temp\\ipykernel_17972\\3059577378.py:16: LangGraphDeprecationWarning: ToolInvocation is deprecated as of version 0.2.0 and will be removed in 0.3.0. Use langgraph.prebuilt.ToolNode instead.\n",
      "  action = ToolInvocation(\n"
     ]
    },
    {
     "name": "stdout",
     "output_type": "stream",
     "text": [
      "The agent action is tool='upper_case' tool_input={'input': 'sixty eight'}\n",
      "The tool result is: SIXTY EIGHT\n"
     ]
    }
   ],
   "source": [
    "output = graph2.invoke(inputs)"
   ]
  },
  {
   "cell_type": "code",
   "execution_count": 74,
   "id": "6bca3c7d",
   "metadata": {},
   "outputs": [
    {
     "data": {
      "text/plain": [
       "{'messages': [SystemMessage(content='you are a helpful assistant', additional_kwargs={}, response_metadata={}),\n",
       "  HumanMessage(content='give me a random number and then write in words and make it upper case', additional_kwargs={}, response_metadata={}),\n",
       "  AIMessage(content='', additional_kwargs={'function_call': {'arguments': '{\"input\":\"Generate a random number\"}', 'name': 'random_number'}}, response_metadata={'finish_reason': 'function_call', 'model_name': 'gpt-4o-2024-08-06', 'system_fingerprint': 'fp_80956533cb', 'service_tier': 'default'}, id='run--5f0f97ae-bf3a-44cd-a349-7ed3e9b23c5b-0'),\n",
       "  FunctionMessage(content='68', additional_kwargs={}, response_metadata={}, name='random_number'),\n",
       "  AIMessage(content='', additional_kwargs={'function_call': {'arguments': '{\"input\":\"sixty eight\"}', 'name': 'upper_case'}}, response_metadata={'finish_reason': 'function_call', 'model_name': 'gpt-4o-2024-08-06', 'system_fingerprint': 'fp_80956533cb', 'service_tier': 'default'}, id='run--62e996f3-1083-496d-9dcd-9e328849a861-0'),\n",
       "  FunctionMessage(content='SIXTY EIGHT', additional_kwargs={}, response_metadata={}, name='upper_case'),\n",
       "  AIMessage(content=\"Here you go: the random number is **68**, and in words, it's **SIXTY EIGHT**.\", additional_kwargs={}, response_metadata={'finish_reason': 'stop', 'model_name': 'gpt-4o-2024-08-06', 'system_fingerprint': 'fp_80956533cb', 'service_tier': 'default'}, id='run--dae4203c-7eb3-4afc-b4ac-92c4793df7a3-0')]}"
      ]
     },
     "execution_count": 74,
     "metadata": {},
     "output_type": "execute_result"
    }
   ],
   "source": [
    "output"
   ]
  }
 ],
 "metadata": {
  "kernelspec": {
   "display_name": "llm_env",
   "language": "python",
   "name": "python3"
  },
  "language_info": {
   "codemirror_mode": {
    "name": "ipython",
    "version": 3
   },
   "file_extension": ".py",
   "mimetype": "text/x-python",
   "name": "python",
   "nbconvert_exporter": "python",
   "pygments_lexer": "ipython3",
   "version": "3.10.18"
  }
 },
 "nbformat": 4,
 "nbformat_minor": 5
}
