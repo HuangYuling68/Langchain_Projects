{
 "cells": [
  {
   "cell_type": "code",
   "execution_count": 40,
   "id": "a0047076",
   "metadata": {},
   "outputs": [],
   "source": [
    "from IPython.display import Image\n",
    "import warnings\n",
    "warnings.filterwarnings(\"ignore\")"
   ]
  },
  {
   "cell_type": "markdown",
   "id": "fc95ba13",
   "metadata": {},
   "source": [
    "## (Self-Corrective) RAG on LangGraph\n",
    "https://github.com/vbarda/pandas-rag-langgraph/blob/main/demo.ipynb\n",
    "\n",
    "- RAG（Retrieval-Augmented Generation）\n",
    "  - 未被 llm 训练过程覆盖的 domain knowledge 或者新知识；\n",
    "  - 提供确定性的知识作为 context，进一步降低幻觉（hallucinations）\n",
    "    - GROUNDED IN DOCUMENTS\n",
    "- vector database\n",
    "  - Chroma\n",
    "### RAG chain: developer-defined control flow"
   ]
  },
  {
   "cell_type": "code",
   "execution_count": 2,
   "id": "98179162",
   "metadata": {},
   "outputs": [
    {
     "data": {
      "text/html": [
       "<img src=\"./imgs/rag-chain.png\" width=\"500\"/>"
      ],
      "text/plain": [
       "<IPython.core.display.Image object>"
      ]
     },
     "execution_count": 2,
     "metadata": {},
     "output_type": "execute_result"
    }
   ],
   "source": [
    "\n",
    "Image(url='./imgs/rag-chain.png', width=500)"
   ]
  },
  {
   "cell_type": "code",
   "execution_count": 3,
   "id": "ff1c6411",
   "metadata": {},
   "outputs": [
    {
     "data": {
      "text/html": [
       "<img src=\"./imgs/rag-agent.png\" width=\"500\"/>"
      ],
      "text/plain": [
       "<IPython.core.display.Image object>"
      ]
     },
     "execution_count": 3,
     "metadata": {},
     "output_type": "execute_result"
    }
   ],
   "source": [
    "Image(url='./imgs/rag-agent.png', width=500)"
   ]
  },
  {
   "cell_type": "code",
   "execution_count": 4,
   "id": "de85fb8c",
   "metadata": {},
   "outputs": [
    {
     "data": {
      "text/html": [
       "<img src=\"./imgs/self-corrective-rag.png\" width=\"500\"/>"
      ],
      "text/plain": [
       "<IPython.core.display.Image object>"
      ]
     },
     "execution_count": 4,
     "metadata": {},
     "output_type": "execute_result"
    }
   ],
   "source": [
    "Image(url='./imgs/self-corrective-rag.png', width=500)"
   ]
  },
  {
   "cell_type": "code",
   "execution_count": 5,
   "id": "d7c0b50a",
   "metadata": {},
   "outputs": [
    {
     "name": "stderr",
     "output_type": "stream",
     "text": [
      "USER_AGENT environment variable not set, consider setting it to identify your requests.\n",
      "c:\\Users\\huang\\anaconda3\\envs\\llm_env\\lib\\site-packages\\IPython\\core\\interactiveshell.py:3579: LangChainDeprecationWarning: As of langchain-core 0.3.0, LangChain uses pydantic v2 internally. The langchain_core.pydantic_v1 module was a compatibility shim for pydantic v1, and should no longer be used. Please update the code to import from Pydantic directly.\n",
      "\n",
      "For example, replace imports like: `from langchain_core.pydantic_v1 import BaseModel`\n",
      "with: `from pydantic import BaseModel`\n",
      "or the v1 compatibility namespace if you are working in a code base that has not been fully upgraded to pydantic 2 yet. \tfrom pydantic.v1 import BaseModel\n",
      "\n",
      "  exec(code_obj, self.user_global_ns, self.user_ns)\n"
     ]
    }
   ],
   "source": [
    "import re\n",
    "from typing import Annotated, Iterator, Literal, TypedDict\n",
    "\n",
    "from langchain import hub\n",
    "\n",
    "# llm\n",
    "# from langchain_anthropic import ChatAnthropic\n",
    "from langchain_openai import ChatOpenAI\n",
    "\n",
    "# tool, \n",
    "# https://python.langchain.com/v0.2/docs/integrations/tools/tavily_search/\n",
    "# TAVILY_API_KEY\n",
    "from langchain_community.tools.tavily_search import TavilySearchResults\n",
    "\n",
    "# rag\n",
    "from langchain_community.document_loaders import web_base\n",
    "from langchain_community.vectorstores import Chroma\n",
    "from langchain_core.documents import Document\n",
    "from langchain_openai import OpenAIEmbeddings\n",
    "from langchain_core.retrievers import BaseRetriever\n",
    "\n",
    "# messages & prompts\n",
    "from langchain_core.messages import BaseMessage, AIMessage, convert_to_messages\n",
    "from langchain_core.prompts import ChatPromptTemplate\n",
    "\n",
    "from langchain_core.output_parsers import StrOutputParser\n",
    "from langchain_core.pydantic_v1 import BaseModel, Field\n",
    "from langchain_text_splitters import RecursiveCharacterTextSplitter\n",
    "\n",
    "# langgraph\n",
    "from langgraph.graph import END, StateGraph, add_messages\n",
    "\n",
    "from langgraph.checkpoint.memory import MemorySaver"
   ]
  },
  {
   "cell_type": "code",
   "execution_count": 6,
   "id": "e3872503",
   "metadata": {},
   "outputs": [
    {
     "data": {
      "text/plain": [
       "True"
      ]
     },
     "execution_count": 6,
     "metadata": {},
     "output_type": "execute_result"
    }
   ],
   "source": [
    "import os\n",
    "os.environ[\"ALL_PROXY\"] = \"socks5://127.0.0.1:33211\"\n",
    "os.environ[\"HTTP_PROXY\"] = \"http://127.0.0.1:33210\"\n",
    "os.environ[\"HTTPS_PROXY\"] = \"http://127.0.0.1:33210\"\n",
    "os.environ[\"USER_AGENT\"] = \"my-llm-app/0.1\"\n",
    "from dotenv import load_dotenv\n",
    "load_dotenv()"
   ]
  },
  {
   "cell_type": "markdown",
   "id": "dbc84a53",
   "metadata": {},
   "source": [
    "### model, retriever & tools"
   ]
  },
  {
   "cell_type": "code",
   "execution_count": 7,
   "id": "6e6821b4",
   "metadata": {},
   "outputs": [],
   "source": [
    "SOURCE_URLS = [\n",
    "    'https://pandas.pydata.org/docs/user_guide/indexing.html',\n",
    "    'https://pandas.pydata.org/docs/user_guide/groupby.html',\n",
    "    'https://pandas.pydata.org/docs/user_guide/merging.html'\n",
    "]\n",
    "NEWLINE_RE = re.compile(\"\\n+\")"
   ]
  },
  {
   "cell_type": "code",
   "execution_count": 8,
   "id": "ae2671d6",
   "metadata": {},
   "outputs": [],
   "source": [
    "class PandasDocsLoader(web_base.WebBaseLoader):\n",
    "    def lazy_load(self) -> Iterator[Document]:\n",
    "        \"\"\"Lazy load text from the url(s) in web_path.\"\"\"\n",
    "        for path in self.web_paths:\n",
    "            soup = self._scrape(path, bs_kwargs=self.bs_kwargs)\n",
    "            text = soup.get_text(**self.bs_get_text_kwargs)\n",
    "            text = NEWLINE_RE.sub(\"\\n\", text)     \n",
    "            metadata = web_base._build_metadata(soup, path)\n",
    "            yield Document(page_content=text, metadata=metadata)"
   ]
  },
  {
   "cell_type": "code",
   "execution_count": 9,
   "id": "893f6f3a",
   "metadata": {},
   "outputs": [
    {
     "data": {
      "text/plain": [
       "['https://pandas.pydata.org/docs/user_guide/indexing.html',\n",
       " 'https://pandas.pydata.org/docs/user_guide/groupby.html',\n",
       " 'https://pandas.pydata.org/docs/user_guide/merging.html']"
      ]
     },
     "execution_count": 9,
     "metadata": {},
     "output_type": "execute_result"
    }
   ],
   "source": [
    "PandasDocsLoader(SOURCE_URLS).web_paths"
   ]
  },
  {
   "cell_type": "code",
   "execution_count": 10,
   "id": "b109b856",
   "metadata": {},
   "outputs": [],
   "source": [
    "def prepare_documents(urls: list[str]) -> list[Document]:\n",
    "    text_splitter = RecursiveCharacterTextSplitter(\n",
    "        separators=[\n",
    "            r\"In \\[[0-9]+\\]\",\n",
    "            r\"\\n+\",\n",
    "            r\"\\s+\"\n",
    "        ],\n",
    "        is_separator_regex=True,\n",
    "        chunk_size=1000\n",
    "    )\n",
    "    docs = [PandasDocsLoader(url).load() for url in urls]\n",
    "    docs_list = [item for sublist in docs for item in sublist]\n",
    "    return text_splitter.split_documents(docs_list)"
   ]
  },
  {
   "cell_type": "code",
   "execution_count": 11,
   "id": "d1584109",
   "metadata": {},
   "outputs": [],
   "source": [
    "def get_retriever() -> BaseRetriever:\n",
    "    documents = prepare_documents(SOURCE_URLS)\n",
    "    vectorstore = Chroma.from_documents(\n",
    "        documents=documents,\n",
    "        collection_name=\"pandas-rag-chroma\",\n",
    "        embedding=OpenAIEmbeddings(),\n",
    "    )\n",
    "    retriever = vectorstore.as_retriever()\n",
    "    return retriever"
   ]
  },
  {
   "cell_type": "code",
   "execution_count": 12,
   "id": "abe4727b",
   "metadata": {},
   "outputs": [],
   "source": [
    "llm = ChatOpenAI(model=\"gpt-4o\", temperature=0)\n",
    "retriever = get_retriever()\n",
    "tavily_search_tool = TavilySearchResults(max_results=3)"
   ]
  },
  {
   "cell_type": "markdown",
   "id": "31e7fa5a",
   "metadata": {},
   "source": [
    "### Graph"
   ]
  },
  {
   "cell_type": "code",
   "execution_count": 13,
   "id": "a9a821a1",
   "metadata": {},
   "outputs": [
    {
     "data": {
      "text/html": [
       "<img src=\"./imgs/self-corrective-rag.png\" width=\"500\"/>"
      ],
      "text/plain": [
       "<IPython.core.display.Image object>"
      ]
     },
     "execution_count": 13,
     "metadata": {},
     "output_type": "execute_result"
    }
   ],
   "source": [
    "Image(url='./imgs/self-corrective-rag.png', width=500)"
   ]
  },
  {
   "cell_type": "markdown",
   "id": "12274fd7",
   "metadata": {},
   "source": [
    "- state: graph 中所有 node 的输入\n",
    "  - question: user query\n",
    "  - messages: add\n",
    "  - documents: 基于 retriever.invoke(question) or search_tool\n",
    "  - candidate_answer: generate\n",
    "  - retries\n",
    "  - web_fallback\n",
    "- nodes: 接收状态，执行动作，产生/改变状态\n",
    "  - rewrite question: 单独的一个重写用户 query 的 llm 调用\n",
    "  - document_search: retriever\n",
    "    - append documents\n",
    "  - generate: llm chain (lcel)\n",
    "    - 提供或者替换 candidate_answer\n",
    "  - web search: search tool\n",
    "    - append documents\n",
    "  - finalize response"
   ]
  },
  {
   "cell_type": "markdown",
   "id": "4780d73a",
   "metadata": {},
   "source": [
    "### state"
   ]
  },
  {
   "cell_type": "code",
   "execution_count": 14,
   "id": "ab719b04",
   "metadata": {},
   "outputs": [],
   "source": [
    "class GraphState(TypedDict):\n",
    "    messages: Annotated[list[BaseMessage], add_messages]\n",
    "    question: str\n",
    "    documents: list[Document]\n",
    "    candidate_answer: str\n",
    "    retries: int\n",
    "    web_fallback: bool\n",
    "\n",
    "\n",
    "class GraphConfig(TypedDict):\n",
    "    max_retries: int"
   ]
  },
  {
   "cell_type": "code",
   "execution_count": 15,
   "id": "95d2311c",
   "metadata": {},
   "outputs": [],
   "source": [
    "MAX_RETRIES = 3\n",
    "VERBOSE = True"
   ]
  },
  {
   "cell_type": "markdown",
   "id": "a92834e4",
   "metadata": {},
   "source": [
    "### nodes\n",
    "\n",
    "document search node"
   ]
  },
  {
   "cell_type": "code",
   "execution_count": 16,
   "id": "a7a86b40",
   "metadata": {},
   "outputs": [],
   "source": [
    "def document_search(state: GraphState):\n",
    "    \"\"\"\n",
    "    Retrieve documents\n",
    "\n",
    "    Args:\n",
    "        state (dict): The current graph state\n",
    "\n",
    "    Returns:\n",
    "        state (dict): New key added to state, documents, that contains retrieved documents\n",
    "    \"\"\"\n",
    "    if VERBOSE:\n",
    "        print(\"---RETRIEVE---\")\n",
    "\n",
    "    question = convert_to_messages(state[\"messages\"])[-1].content\n",
    "\n",
    "    # Retrieval\n",
    "    documents = retriever.invoke(question)\n",
    "    return {\"documents\": documents, \"question\": question, \"web_fallback\": True}"
   ]
  },
  {
   "cell_type": "code",
   "execution_count": 17,
   "id": "edcbc5f6",
   "metadata": {},
   "outputs": [
    {
     "data": {
      "text/plain": [
       "ChatPromptTemplate(input_variables=['context', 'question'], input_types={}, partial_variables={}, metadata={'lc_hub_owner': 'rlm', 'lc_hub_repo': 'rag-prompt', 'lc_hub_commit_hash': '50442af133e61576e74536c6556cefe1fac147cad032f4377b60c436e6cdcb6e'}, messages=[HumanMessagePromptTemplate(prompt=PromptTemplate(input_variables=['context', 'question'], input_types={}, partial_variables={}, template=\"You are an assistant for question-answering tasks. Use the following pieces of retrieved context to answer the question. If you don't know the answer, just say that you don't know. Use three sentences maximum and keep the answer concise.\\nQuestion: {question} \\nContext: {context} \\nAnswer:\"), additional_kwargs={})])"
      ]
     },
     "execution_count": 17,
     "metadata": {},
     "output_type": "execute_result"
    }
   ],
   "source": [
    "# https://smith.langchain.com/hub/rlm/rag-prompt\n",
    "# RAG: QA with context, answer the question base the context\n",
    "RAG_PROMPT: ChatPromptTemplate = hub.pull(\"rlm/rag-prompt\")\n",
    "RAG_PROMPT"
   ]
  },
  {
   "cell_type": "markdown",
   "id": "68c530da",
   "metadata": {},
   "source": [
    "### generate node"
   ]
  },
  {
   "cell_type": "code",
   "execution_count": 18,
   "id": "62397945",
   "metadata": {},
   "outputs": [],
   "source": [
    "def generate(state: GraphState):\n",
    "    \"\"\"\n",
    "    Generate answer\n",
    "\n",
    "    Args:\n",
    "        state (dict): The current graph state\n",
    "\n",
    "    Returns:\n",
    "        state (dict): New key added to state, generation, that contains LLM generation\n",
    "    \"\"\"\n",
    "    if VERBOSE:\n",
    "        print(\"---GENERATE---\")\n",
    "    question = state[\"question\"]\n",
    "    documents = state[\"documents\"]\n",
    "    retries = state[\"retries\"] if state.get(\"retries\") is not None else -1\n",
    "\n",
    "    # lcel\n",
    "    rag_chain = RAG_PROMPT | llm | StrOutputParser()\n",
    "    generation = rag_chain.invoke({\"context\": documents, \"question\": question})\n",
    "    return {\"retries\": retries + 1, \"candidate_answer\": generation}"
   ]
  },
  {
   "cell_type": "markdown",
   "id": "8b9bcd29",
   "metadata": {},
   "source": [
    "### rewrite question"
   ]
  },
  {
   "cell_type": "code",
   "execution_count": 20,
   "id": "ad167d11",
   "metadata": {},
   "outputs": [],
   "source": [
    "QUERY_REWRITER_SYSTEM = (\n",
    "\"\"\"\n",
    "You are a question re-writer that converts an input question to a better version that is optimized for vectorstore retrieval.\n",
    "Look at the input and try to reason about the underlying semantic intent / meaning.\n",
    "\"\"\"\n",
    ")\n",
    "\n",
    "QUERY_REWRITER_PROMPT = ChatPromptTemplate.from_messages(\n",
    "    [\n",
    "        (\"system\", QUERY_REWRITER_SYSTEM),\n",
    "        (\n",
    "            \"human\",\n",
    "            \"Here is the initial question: \\n\\n {question} \\n Formulate an improved question.\",\n",
    "        ),\n",
    "    ]\n",
    ")"
   ]
  },
  {
   "cell_type": "code",
   "execution_count": 26,
   "id": "e9b421ca",
   "metadata": {},
   "outputs": [],
   "source": [
    "def transform_query(state: GraphState):\n",
    "    \"\"\"\n",
    "    Transform the query to produce a better question.\n",
    "\n",
    "    Args:\n",
    "        state (dict): The current graph state\n",
    "\n",
    "    Returns:\n",
    "        state (dict): Updates question key with a re-phrased question\n",
    "    \"\"\"\n",
    "    if VERBOSE:\n",
    "        print(\"---TRANSFORM QUERY---\")\n",
    "\n",
    "    question = state[\"question\"]\n",
    "\n",
    "    # Re-write question\n",
    "    query_rewriter = QUERY_REWRITER_PROMPT | llm | StrOutputParser()\n",
    "    better_question = query_rewriter.invoke({\"question\": question})\n",
    "    return {\"question\": better_question}"
   ]
  },
  {
   "cell_type": "markdown",
   "id": "1df038ce",
   "metadata": {},
   "source": [
    "### web search"
   ]
  },
  {
   "cell_type": "code",
   "execution_count": 21,
   "id": "db4c0337",
   "metadata": {},
   "outputs": [],
   "source": [
    "def web_search(state: GraphState):\n",
    "    if VERBOSE:\n",
    "        print(\"---RUNNING WEB SEARCH---\")\n",
    "\n",
    "    question = state[\"question\"]\n",
    "    documents = state[\"documents\"]\n",
    "    search_results = tavily_search_tool.invoke(question)\n",
    "    search_content = \"\\n\".join([d[\"content\"] for d in search_results])\n",
    "    documents.append(Document(page_content=search_content, metadata={\"source\": \"websearch\"}))\n",
    "    return {\"documents\": documents, \"web_fallback\": False}"
   ]
  },
  {
   "cell_type": "markdown",
   "id": "1e774b16",
   "metadata": {},
   "source": [
    "### finalize response"
   ]
  },
  {
   "cell_type": "code",
   "execution_count": 22,
   "id": "3389ce1f",
   "metadata": {},
   "outputs": [],
   "source": [
    "def finalize_response(state: GraphState):\n",
    "    if VERBOSE:\n",
    "        print(\"---FINALIZING THE RESPONSE---\")\n",
    "\n",
    "    return {\"messages\": [AIMessage(content=state[\"candidate_answer\"])]}"
   ]
  },
  {
   "cell_type": "markdown",
   "id": "a6e3b630",
   "metadata": {},
   "source": [
    "### edges & graph"
   ]
  },
  {
   "cell_type": "code",
   "execution_count": 23,
   "id": "9c260595",
   "metadata": {},
   "outputs": [
    {
     "data": {
      "text/html": [
       "<img src=\"./imgs/self-corrective-rag.png\" width=\"500\"/>"
      ],
      "text/plain": [
       "<IPython.core.display.Image object>"
      ]
     },
     "execution_count": 23,
     "metadata": {},
     "output_type": "execute_result"
    }
   ],
   "source": [
    "Image(url='./imgs/self-corrective-rag.png', width=500)"
   ]
  },
  {
   "cell_type": "markdown",
   "id": "f874477c",
   "metadata": {},
   "source": [
    "Grade answer\n",
    "- Check hallucinations\n",
    "- Check answer relevance"
   ]
  },
  {
   "cell_type": "code",
   "execution_count": 35,
   "id": "22759f7f",
   "metadata": {},
   "outputs": [],
   "source": [
    "class GradeHallucinations(BaseModel):\n",
    "    \"\"\"Binary score for hallucination present in generation answer.\"\"\"\n",
    "\n",
    "    binary_score: str = Field(\n",
    "        description=\"Answer is grounded in the facts, 'yes' or 'no'\"\n",
    "    )\n",
    "\n",
    "\n",
    "HALLUCINATION_GRADER_SYSTEM = (\n",
    "\"\"\"\n",
    "You are a grader assessing whether an LLM generation is grounded in / supported by a set of retrieved facts.\n",
    "Give a binary score 'yes' or 'no', where 'yes' means that the answer is grounded in / supported by the set of facts.\n",
    "\n",
    "IF the generation includes code examples, make sure those examples are FULLY present in the set of facts, otherwise always return score 'no'.\n",
    "\"\"\"\n",
    ")\n",
    "\n",
    "HALLUCINATION_GRADER_PROMPT = ChatPromptTemplate.from_messages(\n",
    "    [\n",
    "        (\"system\", HALLUCINATION_GRADER_SYSTEM),\n",
    "        (\"human\", \"Set of facts: \\n\\n {documents} \\n\\n LLM generation: {generation}\"),\n",
    "    ]\n",
    ")\n",
    "\n",
    "\n",
    "class GradeAnswer(BaseModel):\n",
    "    \"\"\"Binary score to assess answer addresses question.\"\"\"\n",
    "\n",
    "    binary_score: str = Field(\n",
    "        description=\"Answer addresses the question, 'yes' or 'no'\"\n",
    "    )\n",
    "\n",
    "\n",
    "ANSWER_GRADER_SYSTEM = (\n",
    "\"\"\"\n",
    "You are a grader assessing whether an answer addresses / resolves a question.\n",
    "Give a binary score 'yes' or 'no', where 'yes' means that the answer resolves the question.\n",
    "\"\"\"\n",
    ")\n",
    "\n",
    "ANSWER_GRADER_PROMPT = ChatPromptTemplate.from_messages(\n",
    "    [\n",
    "        (\"system\", ANSWER_GRADER_SYSTEM),\n",
    "        (\"human\", \"User question: \\n\\n {question} \\n\\n LLM generation: {generation}\"),\n",
    "    ]\n",
    ")"
   ]
  },
  {
   "cell_type": "code",
   "execution_count": 36,
   "id": "0e6c24a9",
   "metadata": {},
   "outputs": [],
   "source": [
    "def grade_generation_v_documents_and_question(state: GraphState, config) -> Literal[\"generate\", \"transform_query\", \"web_search\", \"finalize_response\"]:\n",
    "    \"\"\"\n",
    "    Determines whether the generation is grounded in the document and answers question.\n",
    "\n",
    "    Args:\n",
    "        state (dict): The current graph state\n",
    "\n",
    "    Returns:\n",
    "        str: Decision for next node to call\n",
    "    \"\"\"\n",
    "    question = state[\"question\"]\n",
    "    documents = state[\"documents\"]\n",
    "    generation = state[\"candidate_answer\"]\n",
    "    web_fallback = state[\"web_fallback\"]\n",
    "    retries = state[\"retries\"] if state.get(\"retries\") is not None else -1\n",
    "    max_retries = config.get(\"configurable\", {}).get(\"max_retries\", MAX_RETRIES)\n",
    "\n",
    "    # this means we've already gone through web fallback and can return to the user\n",
    "    if not web_fallback:\n",
    "        return \"finalize_response\"\n",
    "    if VERBOSE:\n",
    "        print(\"---CHECK HALLUCINATIONS---\")\n",
    "\n",
    "    # llm lcel chain\n",
    "    hallucination_grader = HALLUCINATION_GRADER_PROMPT | llm.with_structured_output(GradeHallucinations)\n",
    "    hallucination_grade: GradeHallucinations = hallucination_grader.invoke(\n",
    "        {\"documents\": documents, \"generation\": generation}\n",
    "    )\n",
    "\n",
    "    # Check hallucination\n",
    "    if hallucination_grade.binary_score == \"no\":\n",
    "        if VERBOSE: print(\"---DECISION: GENERATION IS NOT GROUNDED IN DOCUMENTS, RE-TRY---\")\n",
    "        return \"generate\" if retries < max_retries else \"web_search\"\n",
    "\n",
    "    if VERBOSE:\n",
    "        print(\"---DECISION: GENERATION IS GROUNDED IN DOCUMENTS---\")\n",
    "        print(\"---GRADE GENERATION vs QUESTION---\")\n",
    "\n",
    "    # Check question-answering\n",
    "    answer_grader = ANSWER_GRADER_PROMPT | llm.with_structured_output(GradeAnswer)\n",
    "    answer_grade: GradeAnswer = answer_grader.invoke({\"question\": question, \"generation\": generation})\n",
    "    if answer_grade.binary_score == \"yes\":\n",
    "        if VERBOSE: print(\"---DECISION: GENERATION ADDRESSES QUESTION---\")\n",
    "        return \"finalize_response\"\n",
    "    else:\n",
    "        if VERBOSE: print(\"---DECISION: GENERATION DOES NOT ADDRESS QUESTION---\")\n",
    "        return \"transform_query\" if retries < max_retries else \"web_search\""
   ]
  },
  {
   "cell_type": "markdown",
   "id": "362d2f34",
   "metadata": {},
   "source": [
    "条件性跳转（from `generate`），基于的幻觉检测（llm lcel chain invoke）\n",
    "\n",
    "- \"generate\",\n",
    "- \"transform_query\",\n",
    "- \"web_search\",\n",
    "- \"finalize_response\"\n",
    "\n",
    "### build the graph"
   ]
  },
  {
   "cell_type": "code",
   "execution_count": 37,
   "id": "e6a10608",
   "metadata": {},
   "outputs": [],
   "source": [
    "workflow = StateGraph(GraphState, config_schema=GraphConfig)\n",
    "\n",
    "# Define the nodes\n",
    "workflow.add_node(\"document_search\", document_search)\n",
    "workflow.add_node(\"generate\", generate)\n",
    "workflow.add_node(\"transform_query\", transform_query)\n",
    "workflow.add_node(\"web_search\", web_search)\n",
    "workflow.add_node(\"finalize_response\", finalize_response)\n",
    "\n",
    "# Build graph\n",
    "workflow.set_entry_point(\"document_search\")\n",
    "workflow.add_edge(\"document_search\", \"generate\")\n",
    "workflow.add_edge(\"transform_query\", \"document_search\")\n",
    "workflow.add_edge(\"web_search\", \"generate\")\n",
    "workflow.add_edge(\"finalize_response\", END)\n",
    "\n",
    "workflow.add_conditional_edges(\n",
    "    \"generate\",\n",
    "    grade_generation_v_documents_and_question\n",
    ")\n",
    "\n",
    "# Compile\n",
    "graph = workflow.compile()"
   ]
  },
  {
   "cell_type": "code",
   "execution_count": 38,
   "id": "f0d3ff5e",
   "metadata": {},
   "outputs": [
    {
     "data": {
      "image/png": "[encoded data removed]",
      "text/plain": [
       "<IPython.core.display.Image object>"
      ]
     },
     "metadata": {},
     "output_type": "display_data"
    }
   ],
   "source": [
    "from IPython.display import Image, display\n",
    "# grade_generation_v_documents_and_question\n",
    "display(Image(graph.get_graph().draw_mermaid_png()))"
   ]
  },
  {
   "cell_type": "markdown",
   "id": "d53787bb",
   "metadata": {},
   "source": [
    "### run the graph"
   ]
  },
  {
   "cell_type": "code",
   "execution_count": 41,
   "id": "ac088b67",
   "metadata": {},
   "outputs": [
    {
     "name": "stdout",
     "output_type": "stream",
     "text": [
      "---RETRIEVE---\n",
      "{'document_search': {'question': 'how do i calculate sum by groups', 'documents': [Document(metadata={'source': 'https://pandas.pydata.org/docs/user_guide/groupby.html', 'language': 'en', 'title': 'Group by: split-apply-combine — pandas 2.3.2 documentation'}, page_content='By “group by” we are referring to a process involving one or more of the following\\nsteps:\\nSplitting the data into groups based on some criteria.\\nApplying a function to each group independently.\\nCombining the results into a data structure.\\nOut of these, the split step is the most straightforward. In the apply step, we\\nmight wish to do one of the following:\\nAggregation: compute a summary statistic (or statistics) for each\\ngroup. Some examples:\\nCompute group sums or means.\\nCompute group sizes / counts.\\nTransformation: perform some group-specific computations and return a\\nlike-indexed object. Some examples:\\nStandardize data (zscore) within a group.\\nFilling NAs within groups with a value derived from each group.\\nFiltration: discard some groups, according to a group-wise computation\\nthat evaluates to True or False. Some examples:\\nDiscard data that belong to groups with only a few members.\\nFilter out data based on the group sum or mean.'), Document(metadata={'language': 'en', 'title': 'Group by: split-apply-combine — pandas 2.3.2 documentation', 'source': 'https://pandas.pydata.org/docs/user_guide/groupby.html'}, page_content='In [108]: grouped[\"C\"].agg([\"sum\", \"sum\"])\\nOut[108]: \\n          sum       sum\\nA                      \\nbar  0.392940  0.392940\\nfoo -1.796421 -1.796421\\npandas also allows you to provide multiple lambdas. In this case, pandas\\nwill mangle the name of the (nameless) lambda functions, appending _<i>\\nto each subsequent lambda.'), Document(metadata={'language': 'en', 'source': 'https://pandas.pydata.org/docs/user_guide/groupby.html', 'title': 'Group by: split-apply-combine — pandas 2.3.2 documentation'}, page_content='In [116]: grouped.agg({\"C\": \"sum\", \"D\": \"std\"})\\nOut[116]: \\n            C         D\\nA                      \\nbar  0.392940  1.366330\\nfoo -1.796421  0.884785\\nTransformation#\\nA transformation is a GroupBy operation whose result is indexed the same\\nas the one being grouped. Common examples include cumsum() and\\ndiff().\\nIn [117]: speeds\\nOut[117]: \\n          class           order  max_speed\\nfalcon     bird   Falconiformes      389.0\\nparrot     bird  Psittaciformes       24.0\\nlion     mammal       Carnivora       80.2\\nmonkey   mammal        Primates        NaN\\nleopard  mammal       Carnivora       58.0\\nIn [118]: grouped = speeds.groupby(\"class\")[\"max_speed\"]\\nIn [119]: grouped.cumsum()\\nOut[119]: \\nfalcon     389.0\\nparrot     413.0\\nlion        80.2\\nmonkey       NaN\\nleopard    138.2\\nName: max_speed, dtype: float64'), Document(metadata={'title': 'Group by: split-apply-combine — pandas 2.3.2 documentation', 'language': 'en', 'source': 'https://pandas.pydata.org/docs/user_guide/groupby.html'}, page_content='In [73]: grouped[[\"A\", \"B\"]].sum()\\nOut[73]: \\n                   A                  B\\nA                                      \\nbar        barbarbar        onethreetwo\\nfoo  foofoofoofoofoo  onetwotwoonethree\\nIterating through groups#\\nWith the GroupBy object in hand, iterating through the grouped data is very\\nnatural and functions similarly to itertools.groupby():\\nIn [74]: grouped = df.groupby(\\'A\\')\\nIn [75]: for name, group in grouped:\\n   ....:     print(name)\\n   ....:     print(group)\\n   ....: \\nbar\\n     A      B         C         D\\n1  bar    one  0.254161  1.511763\\n3  bar  three  0.215897 -0.990582\\n5  bar    two -0.077118  1.211526\\nfoo\\n     A      B         C         D\\n0  foo    one -0.575247  1.346061\\n2  foo    two -1.143704  1.627081\\n4  foo    two  1.193555 -0.441652\\n6  foo    one -0.408530  0.268520\\n7  foo  three -0.862495  0.024580\\nIn the case of grouping by multiple keys, the group name will be a tuple:')], 'web_fallback': True}}\n",
      "\n",
      "---\n",
      "\n",
      "---GENERATE---\n",
      "---CHECK HALLUCINATIONS---\n",
      "---DECISION: GENERATION IS GROUNDED IN DOCUMENTS---\n",
      "---GRADE GENERATION vs QUESTION---\n",
      "---DECISION: GENERATION ADDRESSES QUESTION---\n",
      "{'generate': {'candidate_answer': \"To calculate the sum by groups using pandas, you can use the `groupby` method followed by `sum()`. For example, if you have a DataFrame `df` and you want to group by column 'A' and calculate the sum of another column 'B', you would use `df.groupby('A')['B'].sum()`. This will return the sum of 'B' for each unique value in 'A'.\", 'retries': 0}}\n",
      "\n",
      "---\n",
      "\n",
      "---FINALIZING THE RESPONSE---\n",
      "{'finalize_response': {'messages': [AIMessage(content=\"To calculate the sum by groups using pandas, you can use the `groupby` method followed by `sum()`. For example, if you have a DataFrame `df` and you want to group by column 'A' and calculate the sum of another column 'B', you would use `df.groupby('A')['B'].sum()`. This will return the sum of 'B' for each unique value in 'A'.\", additional_kwargs={}, response_metadata={}, id='5dba415c-277c-4787-a9ac-9e92cfa26526')]}}\n",
      "\n",
      "---\n",
      "\n"
     ]
    }
   ],
   "source": [
    "VERBOSE = True\n",
    "inputs = {\"messages\": [(\"human\", \"how do i calculate sum by groups\")]}\n",
    "for output in graph.stream(inputs):\n",
    "    print(output)\n",
    "    print(\"\\n---\\n\")"
   ]
  },
  {
   "cell_type": "markdown",
   "id": "6be09aec",
   "metadata": {},
   "source": [
    "### Query with a fallback"
   ]
  },
  {
   "cell_type": "code",
   "execution_count": 42,
   "id": "bce40945",
   "metadata": {},
   "outputs": [
    {
     "name": "stdout",
     "output_type": "stream",
     "text": [
      "---RETRIEVE---\n",
      "{'document_search': {'question': 'how do i convert a column into dummies', 'documents': [Document(metadata={'language': 'en', 'title': 'Group by: split-apply-combine — pandas 2.3.2 documentation', 'source': 'https://pandas.pydata.org/docs/user_guide/groupby.html'}, page_content='naturally to multiple columns of mixed type and different\\nsources. This can be useful as an intermediate categorical-like step\\nin processing, when the relationships between the group rows are more\\nimportant than their content, or as input to an algorithm which only\\naccepts the integer encoding. (For more information about support in\\npandas for full categorical data, see the Categorical\\nintroduction and the\\nAPI documentation.)'), Document(metadata={'title': 'Indexing and selecting data — pandas 2.3.2 documentation', 'language': 'en', 'source': 'https://pandas.pydata.org/docs/user_guide/indexing.html'}, page_content=\"In [25]: sa.a = 5\\nIn [26]: sa\\nOut[26]: \\na    5\\nb    2\\nc    3\\ndtype: int64\\nIn [27]: dfa.A = list(range(len(dfa.index)))  # ok if A already exists\\nIn [28]: dfa\\nOut[28]: \\n            A         B         C         D\\n2000-01-01  0  0.469112 -1.509059 -1.135632\\n2000-01-02  1  1.212112  0.119209 -1.044236\\n2000-01-03  2 -0.861849 -0.494929  1.071804\\n2000-01-04  3  0.721555 -1.039575  0.271860\\n2000-01-05  4 -0.424972  0.276232 -1.087401\\n2000-01-06  5 -0.673690 -1.478427  0.524988\\n2000-01-07  6  0.404705 -1.715002 -1.039268\\n2000-01-08  7 -0.370647 -1.344312  0.844885\\nIn [29]: dfa['A'] = list(range(len(dfa.index)))  # use this form to create a new column\"), Document(metadata={'language': 'en', 'title': 'Indexing and selecting data — pandas 2.3.2 documentation', 'source': 'https://pandas.pydata.org/docs/user_guide/indexing.html'}, page_content=\"In [11]: df[['B', 'A']] = df[['A', 'B']]\\nIn [12]: df\\nOut[12]: \\n                   A         B         C         D\\n2000-01-01 -0.282863  0.469112 -1.509059 -1.135632\\n2000-01-02 -0.173215  1.212112  0.119209 -1.044236\\n2000-01-03 -2.104569 -0.861849 -0.494929  1.071804\\n2000-01-04 -0.706771  0.721555 -1.039575  0.271860\\n2000-01-05  0.567020 -0.424972  0.276232 -1.087401\\n2000-01-06  0.113648 -0.673690 -1.478427  0.524988\\n2000-01-07  0.577046  0.404705 -1.715002 -1.039268\\n2000-01-08 -1.157892 -0.370647 -1.344312  0.844885\\nYou may find this useful for applying a transform (in-place) to a subset of the\\ncolumns.\\nWarning\\npandas aligns all AXES when setting Series and DataFrame from .loc.\\nThis will not modify df because the column alignment is before value assignment.\"), Document(metadata={'language': 'en', 'title': 'Merge, join, concatenate and compare — pandas 2.3.2 documentation', 'source': 'https://pandas.pydata.org/docs/user_guide/merging.html'}, page_content='In [144]: df = pd.DataFrame(\\n   .....:     {\\n   .....:         \"col1\": [\"a\", \"a\", \"b\", \"b\", \"a\"],\\n   .....:         \"col2\": [1.0, 2.0, 3.0, np.nan, 5.0],\\n   .....:         \"col3\": [1.0, 2.0, 3.0, 4.0, 5.0],\\n   .....:     },\\n   .....:     columns=[\"col1\", \"col2\", \"col3\"],\\n   .....: )\\n   .....: \\nIn [145]: df\\nOut[145]: \\n  col1  col2  col3\\n0    a   1.0   1.0\\n1    a   2.0   2.0\\n2    b   3.0   3.0\\n3    b   NaN   4.0\\n4    a   5.0   5.0\\nIn [146]: df2 = df.copy()\\nIn [147]: df2.loc[0, \"col1\"] = \"c\"\\nIn [148]: df2.loc[2, \"col3\"] = 4.0\\nIn [149]: df2\\nOut[149]: \\n  col1  col2  col3\\n0    c   1.0   1.0\\n1    a   2.0   2.0\\n2    b   3.0   4.0\\n3    b   NaN   4.0\\n4    a   5.0   5.0')], 'web_fallback': True}}\n",
      "\n",
      "---\n",
      "\n",
      "---GENERATE---\n",
      "---CHECK HALLUCINATIONS---\n",
      "---DECISION: GENERATION IS NOT GROUNDED IN DOCUMENTS, RE-TRY---\n",
      "{'generate': {'candidate_answer': \"To convert a column into dummies in pandas, you can use the `pd.get_dummies()` function. For example, if you have a DataFrame `df` and you want to convert the column `col1` into dummy variables, you would use `pd.get_dummies(df['col1'])`. This will create a new DataFrame with binary columns for each category in `col1`.\", 'retries': 0}}\n",
      "\n",
      "---\n",
      "\n",
      "---GENERATE---\n",
      "---CHECK HALLUCINATIONS---\n",
      "---DECISION: GENERATION IS NOT GROUNDED IN DOCUMENTS, RE-TRY---\n",
      "{'generate': {'candidate_answer': \"To convert a column into dummy variables in pandas, you can use the `pd.get_dummies()` function. For example, if you have a DataFrame `df` and you want to convert the column `col1` into dummy variables, you would use `pd.get_dummies(df['col1'])`. This will create a new DataFrame with binary columns for each category in `col1`.\", 'retries': 1}}\n",
      "\n",
      "---\n",
      "\n",
      "---RUNNING WEB SEARCH---\n",
      "{'web_search': {'documents': [Document(metadata={'language': 'en', 'title': 'Group by: split-apply-combine — pandas 2.3.2 documentation', 'source': 'https://pandas.pydata.org/docs/user_guide/groupby.html'}, page_content='naturally to multiple columns of mixed type and different\\nsources. This can be useful as an intermediate categorical-like step\\nin processing, when the relationships between the group rows are more\\nimportant than their content, or as input to an algorithm which only\\naccepts the integer encoding. (For more information about support in\\npandas for full categorical data, see the Categorical\\nintroduction and the\\nAPI documentation.)'), Document(metadata={'title': 'Indexing and selecting data — pandas 2.3.2 documentation', 'language': 'en', 'source': 'https://pandas.pydata.org/docs/user_guide/indexing.html'}, page_content=\"In [25]: sa.a = 5\\nIn [26]: sa\\nOut[26]: \\na    5\\nb    2\\nc    3\\ndtype: int64\\nIn [27]: dfa.A = list(range(len(dfa.index)))  # ok if A already exists\\nIn [28]: dfa\\nOut[28]: \\n            A         B         C         D\\n2000-01-01  0  0.469112 -1.509059 -1.135632\\n2000-01-02  1  1.212112  0.119209 -1.044236\\n2000-01-03  2 -0.861849 -0.494929  1.071804\\n2000-01-04  3  0.721555 -1.039575  0.271860\\n2000-01-05  4 -0.424972  0.276232 -1.087401\\n2000-01-06  5 -0.673690 -1.478427  0.524988\\n2000-01-07  6  0.404705 -1.715002 -1.039268\\n2000-01-08  7 -0.370647 -1.344312  0.844885\\nIn [29]: dfa['A'] = list(range(len(dfa.index)))  # use this form to create a new column\"), Document(metadata={'language': 'en', 'title': 'Indexing and selecting data — pandas 2.3.2 documentation', 'source': 'https://pandas.pydata.org/docs/user_guide/indexing.html'}, page_content=\"In [11]: df[['B', 'A']] = df[['A', 'B']]\\nIn [12]: df\\nOut[12]: \\n                   A         B         C         D\\n2000-01-01 -0.282863  0.469112 -1.509059 -1.135632\\n2000-01-02 -0.173215  1.212112  0.119209 -1.044236\\n2000-01-03 -2.104569 -0.861849 -0.494929  1.071804\\n2000-01-04 -0.706771  0.721555 -1.039575  0.271860\\n2000-01-05  0.567020 -0.424972  0.276232 -1.087401\\n2000-01-06  0.113648 -0.673690 -1.478427  0.524988\\n2000-01-07  0.577046  0.404705 -1.715002 -1.039268\\n2000-01-08 -1.157892 -0.370647 -1.344312  0.844885\\nYou may find this useful for applying a transform (in-place) to a subset of the\\ncolumns.\\nWarning\\npandas aligns all AXES when setting Series and DataFrame from .loc.\\nThis will not modify df because the column alignment is before value assignment.\"), Document(metadata={'language': 'en', 'title': 'Merge, join, concatenate and compare — pandas 2.3.2 documentation', 'source': 'https://pandas.pydata.org/docs/user_guide/merging.html'}, page_content='In [144]: df = pd.DataFrame(\\n   .....:     {\\n   .....:         \"col1\": [\"a\", \"a\", \"b\", \"b\", \"a\"],\\n   .....:         \"col2\": [1.0, 2.0, 3.0, np.nan, 5.0],\\n   .....:         \"col3\": [1.0, 2.0, 3.0, 4.0, 5.0],\\n   .....:     },\\n   .....:     columns=[\"col1\", \"col2\", \"col3\"],\\n   .....: )\\n   .....: \\nIn [145]: df\\nOut[145]: \\n  col1  col2  col3\\n0    a   1.0   1.0\\n1    a   2.0   2.0\\n2    b   3.0   3.0\\n3    b   NaN   4.0\\n4    a   5.0   5.0\\nIn [146]: df2 = df.copy()\\nIn [147]: df2.loc[0, \"col1\"] = \"c\"\\nIn [148]: df2.loc[2, \"col3\"] = 4.0\\nIn [149]: df2\\nOut[149]: \\n  col1  col2  col3\\n0    c   1.0   1.0\\n1    a   2.0   2.0\\n2    b   3.0   4.0\\n3    b   NaN   4.0\\n4    a   5.0   5.0'), Document(metadata={'source': 'websearch'}, page_content='You can also convert numerical and boolean columns to dummy variables by specifying the column names as a list in the `columns` argument. Columns not specified in `columns` are not converted. [...] source: pandas_get_dummies.py\\n\\nSpecify columns to be converted to dummy variables: `columns`\\n-------------------------------------------------------------\\n\\nBy default, in the case of a `DataFrame`, columns whose data type (`dtype`) is `object` (mainly strings) or `category` are converted to dummy variables. [...] print(pd.get_dummies(df_B))\\n#        age  point  state_CA  state_NY  state_TX\\n# name                                           \\n# Dave    68     70     False     False      True\\n# Ellen   24     88      True     False     False\\n# Frank   30     57     False      True     False\\n```\\n\\nsource: pandas_get_dummies.py\\n\\nTo make the dummy variable columns common, use pandas\\' categorical type. Convert the target columns to categorical type using `pd.Categorical()`.\\nWe can either specify the columns to get the dummies by default it will convert all the possible categorical columns to their dummy columns.\\n\\nPython3\\n```python3\\n# importing the libraries\\nimport pandas as pd\\n\\n# creating a copy of the original data frame\\ndf3 = df.copy() [...] # fitting the columns to a data frame\\ndf_category_encoder = encoder.fit_transform( df2 )\\n\\ndisplay(df_category_encoder)\\n```\\n\\nOutput:\\n\\nImage 5\\n\\nData Frame created from all the Categorical Columns\\n\\n### Approach 3:\\n\\nUnder this approach, we deploy the simplest way to perform the conversion of all possible Categorical Columns in a data frame to Dummy Columns by using the get_dummies() method of the pandas library. [...] Let\\'s consider the column WINDY which is composed of two categories: YES and NO. So, in the data set that contains the Dummy Variables, the column WINDY is replaced by two columns which each represent the categories: YES and NO. Now comparing the rows of the columns YES and NO with WINDY, we mark 0 for YES where it is absent and 1 where it is present. The same is done for column NO. This methodology is adopted for all the categorical columns. The important thing to notice is that each\\nIn some situations, you would want columns with types other than factor and character to generate dummy variables. For example, a column of years would be numeric but could be well-suited for making into dummy variables depending on your analysis. Use the _select\\\\_columns_ parameter to select specific columns to make dummy variables from.\\n\\n```\\nresults <- fastDummies::dummy_cols(fastDummies_example, select_columns = \"numbers\")\\nknitr::kable(results)\\n``` [...] In the function dummy_cols, the names of these new columns are concatenated to the original column and separated by an underscore.\\n\\n| animals | animals_dog | animals_cat |\\n| --- | --- | --- |\\n| dog | 1 | 0 |\\n| dog | 1 | 0 |\\n| cat | 0 | 1 |\\n\\nWith an example like this, it is fairly easy to make the dummy columns yourself. `dummy_cols()` automates the process, and is useful when you have many columns to general dummy variables from or with many categories within the column. [...] We’ll start with a simple example and then go into using the function `dummy_cols()`. You can also use the function `dummy_columns()` which is identical to `dummy_cols()`.\\n\\nImagine you have a data set about animals in a local shelter. One of the columns in your data is what animal it is: dog or cat.\\n\\n| animals |\\n| :--- |\\n| dog |\\n| dog |\\n| cat |')], 'web_fallback': False}}\n",
      "\n",
      "---\n",
      "\n",
      "---GENERATE---\n",
      "{'generate': {'candidate_answer': \"To convert a column into dummy variables in pandas, you can use the `get_dummies()` function. For example, `pd.get_dummies(df['column_name'])` will create a new DataFrame with dummy variables for each category in the specified column. This method is useful for converting categorical data into a format suitable for machine learning algorithms.\", 'retries': 2}}\n",
      "\n",
      "---\n",
      "\n",
      "---FINALIZING THE RESPONSE---\n",
      "{'finalize_response': {'messages': [AIMessage(content=\"To convert a column into dummy variables in pandas, you can use the `get_dummies()` function. For example, `pd.get_dummies(df['column_name'])` will create a new DataFrame with dummy variables for each category in the specified column. This method is useful for converting categorical data into a format suitable for machine learning algorithms.\", additional_kwargs={}, response_metadata={}, id='34b8b6ec-f46f-4989-a7c2-a17e7bb60b65')]}}\n",
      "\n",
      "---\n",
      "\n"
     ]
    }
   ],
   "source": [
    "VERBOSE = True\n",
    "inputs = {\"messages\": [(\"human\", \"how do i convert a column into dummies\")]}\n",
    "for output in graph.stream(inputs, {\"configurable\": {\"max_retries\": 1}}):\n",
    "    print(output)\n",
    "    print(\"\\n---\\n\")"
   ]
  },
  {
   "cell_type": "code",
   "execution_count": 43,
   "id": "eb687558",
   "metadata": {},
   "outputs": [
    {
     "name": "stdout",
     "output_type": "stream",
     "text": [
      "---RETRIEVE---\n",
      "---GENERATE---\n",
      "---CHECK HALLUCINATIONS---\n",
      "---DECISION: GENERATION IS NOT GROUNDED IN DOCUMENTS, RE-TRY---\n",
      "---GENERATE---\n",
      "---CHECK HALLUCINATIONS---\n",
      "---DECISION: GENERATION IS NOT GROUNDED IN DOCUMENTS, RE-TRY---\n",
      "---GENERATE---\n",
      "---CHECK HALLUCINATIONS---\n",
      "---DECISION: GENERATION IS NOT GROUNDED IN DOCUMENTS, RE-TRY---\n",
      "---GENERATE---\n",
      "---CHECK HALLUCINATIONS---\n",
      "---DECISION: GENERATION IS NOT GROUNDED IN DOCUMENTS, RE-TRY---\n",
      "---RUNNING WEB SEARCH---\n",
      "---GENERATE---\n",
      "---FINALIZING THE RESPONSE---\n"
     ]
    },
    {
     "data": {
      "text/plain": [
       "{'messages': [HumanMessage(content='how do i convert a column into dummies', additional_kwargs={}, response_metadata={}, id='0a70ee4f-9152-4f6f-921b-202d645f501f'),\n",
       "  AIMessage(content=\"To convert a column into dummy variables in pandas, you can use the `get_dummies()` function. This function automatically converts categorical columns into dummy/indicator variables. For example, `pd.get_dummies(df['column_name'])` will create a new DataFrame with dummy variables for each category in the specified column.\", additional_kwargs={}, response_metadata={}, id='589a4b47-7d41-438a-a69b-f85fc2342295')],\n",
       " 'question': 'how do i convert a column into dummies',\n",
       " 'documents': [Document(metadata={'source': 'https://pandas.pydata.org/docs/user_guide/groupby.html', 'title': 'Group by: split-apply-combine — pandas 2.3.2 documentation', 'language': 'en'}, page_content='naturally to multiple columns of mixed type and different\\nsources. This can be useful as an intermediate categorical-like step\\nin processing, when the relationships between the group rows are more\\nimportant than their content, or as input to an algorithm which only\\naccepts the integer encoding. (For more information about support in\\npandas for full categorical data, see the Categorical\\nintroduction and the\\nAPI documentation.)'),\n",
       "  Document(metadata={'source': 'https://pandas.pydata.org/docs/user_guide/indexing.html', 'language': 'en', 'title': 'Indexing and selecting data — pandas 2.3.2 documentation'}, page_content=\"In [25]: sa.a = 5\\nIn [26]: sa\\nOut[26]: \\na    5\\nb    2\\nc    3\\ndtype: int64\\nIn [27]: dfa.A = list(range(len(dfa.index)))  # ok if A already exists\\nIn [28]: dfa\\nOut[28]: \\n            A         B         C         D\\n2000-01-01  0  0.469112 -1.509059 -1.135632\\n2000-01-02  1  1.212112  0.119209 -1.044236\\n2000-01-03  2 -0.861849 -0.494929  1.071804\\n2000-01-04  3  0.721555 -1.039575  0.271860\\n2000-01-05  4 -0.424972  0.276232 -1.087401\\n2000-01-06  5 -0.673690 -1.478427  0.524988\\n2000-01-07  6  0.404705 -1.715002 -1.039268\\n2000-01-08  7 -0.370647 -1.344312  0.844885\\nIn [29]: dfa['A'] = list(range(len(dfa.index)))  # use this form to create a new column\"),\n",
       "  Document(metadata={'title': 'Indexing and selecting data — pandas 2.3.2 documentation', 'source': 'https://pandas.pydata.org/docs/user_guide/indexing.html', 'language': 'en'}, page_content=\"In [11]: df[['B', 'A']] = df[['A', 'B']]\\nIn [12]: df\\nOut[12]: \\n                   A         B         C         D\\n2000-01-01 -0.282863  0.469112 -1.509059 -1.135632\\n2000-01-02 -0.173215  1.212112  0.119209 -1.044236\\n2000-01-03 -2.104569 -0.861849 -0.494929  1.071804\\n2000-01-04 -0.706771  0.721555 -1.039575  0.271860\\n2000-01-05  0.567020 -0.424972  0.276232 -1.087401\\n2000-01-06  0.113648 -0.673690 -1.478427  0.524988\\n2000-01-07  0.577046  0.404705 -1.715002 -1.039268\\n2000-01-08 -1.157892 -0.370647 -1.344312  0.844885\\nYou may find this useful for applying a transform (in-place) to a subset of the\\ncolumns.\\nWarning\\npandas aligns all AXES when setting Series and DataFrame from .loc.\\nThis will not modify df because the column alignment is before value assignment.\"),\n",
       "  Document(metadata={'language': 'en', 'source': 'https://pandas.pydata.org/docs/user_guide/merging.html', 'title': 'Merge, join, concatenate and compare — pandas 2.3.2 documentation'}, page_content='In [144]: df = pd.DataFrame(\\n   .....:     {\\n   .....:         \"col1\": [\"a\", \"a\", \"b\", \"b\", \"a\"],\\n   .....:         \"col2\": [1.0, 2.0, 3.0, np.nan, 5.0],\\n   .....:         \"col3\": [1.0, 2.0, 3.0, 4.0, 5.0],\\n   .....:     },\\n   .....:     columns=[\"col1\", \"col2\", \"col3\"],\\n   .....: )\\n   .....: \\nIn [145]: df\\nOut[145]: \\n  col1  col2  col3\\n0    a   1.0   1.0\\n1    a   2.0   2.0\\n2    b   3.0   3.0\\n3    b   NaN   4.0\\n4    a   5.0   5.0\\nIn [146]: df2 = df.copy()\\nIn [147]: df2.loc[0, \"col1\"] = \"c\"\\nIn [148]: df2.loc[2, \"col3\"] = 4.0\\nIn [149]: df2\\nOut[149]: \\n  col1  col2  col3\\n0    c   1.0   1.0\\n1    a   2.0   2.0\\n2    b   3.0   4.0\\n3    b   NaN   4.0\\n4    a   5.0   5.0'),\n",
       "  Document(metadata={'source': 'websearch'}, page_content='You can also convert numerical and boolean columns to dummy variables by specifying the column names as a list in the `columns` argument. Columns not specified in `columns` are not converted. [...] source: pandas_get_dummies.py\\n\\nSpecify columns to be converted to dummy variables: `columns`\\n-------------------------------------------------------------\\n\\nBy default, in the case of a `DataFrame`, columns whose data type (`dtype`) is `object` (mainly strings) or `category` are converted to dummy variables. [...] print(pd.get_dummies(df_B))\\n#        age  point  state_CA  state_NY  state_TX\\n# name                                           \\n# Dave    68     70     False     False      True\\n# Ellen   24     88      True     False     False\\n# Frank   30     57     False      True     False\\n```\\n\\nsource: pandas_get_dummies.py\\n\\nTo make the dummy variable columns common, use pandas\\' categorical type. Convert the target columns to categorical type using `pd.Categorical()`.\\nWe can either specify the columns to get the dummies by default it will convert all the possible categorical columns to their dummy columns.\\n\\nPython3\\n```python3\\n# importing the libraries\\nimport pandas as pd\\n\\n# creating a copy of the original data frame\\ndf3 = df.copy() [...] # fitting the columns to a data frame\\ndf_category_encoder = encoder.fit_transform( df2 )\\n\\ndisplay(df_category_encoder)\\n```\\n\\nOutput:\\n\\nImage 5\\n\\nData Frame created from all the Categorical Columns\\n\\n### Approach 3:\\n\\nUnder this approach, we deploy the simplest way to perform the conversion of all possible Categorical Columns in a data frame to Dummy Columns by using the get_dummies() method of the pandas library. [...] Let\\'s consider the column WINDY which is composed of two categories: YES and NO. So, in the data set that contains the Dummy Variables, the column WINDY is replaced by two columns which each represent the categories: YES and NO. Now comparing the rows of the columns YES and NO with WINDY, we mark 0 for YES where it is absent and 1 where it is present. The same is done for column NO. This methodology is adopted for all the categorical columns. The important thing to notice is that each\\nIn some situations, you would want columns with types other than factor and character to generate dummy variables. For example, a column of years would be numeric but could be well-suited for making into dummy variables depending on your analysis. Use the _select\\\\_columns_ parameter to select specific columns to make dummy variables from.\\n\\n```\\nresults <- fastDummies::dummy_cols(fastDummies_example, select_columns = \"numbers\")\\nknitr::kable(results)\\n``` [...] In the function dummy_cols, the names of these new columns are concatenated to the original column and separated by an underscore.\\n\\n| animals | animals_dog | animals_cat |\\n| --- | --- | --- |\\n| dog | 1 | 0 |\\n| dog | 1 | 0 |\\n| cat | 0 | 1 |\\n\\nWith an example like this, it is fairly easy to make the dummy columns yourself. `dummy_cols()` automates the process, and is useful when you have many columns to general dummy variables from or with many categories within the column. [...] We’ll start with a simple example and then go into using the function `dummy_cols()`. You can also use the function `dummy_columns()` which is identical to `dummy_cols()`.\\n\\nImagine you have a data set about animals in a local shelter. One of the columns in your data is what animal it is: dog or cat.\\n\\n| animals |\\n| :--- |\\n| dog |\\n| dog |\\n| cat |')],\n",
       " 'candidate_answer': \"To convert a column into dummy variables in pandas, you can use the `get_dummies()` function. This function automatically converts categorical columns into dummy/indicator variables. For example, `pd.get_dummies(df['column_name'])` will create a new DataFrame with dummy variables for each category in the specified column.\",\n",
       " 'retries': 4,\n",
       " 'web_fallback': False}"
      ]
     },
     "execution_count": 43,
     "metadata": {},
     "output_type": "execute_result"
    }
   ],
   "source": [
    "graph.invoke(inputs)"
   ]
  }
 ],
 "metadata": {
  "kernelspec": {
   "display_name": "llm_env",
   "language": "python",
   "name": "python3"
  },
  "language_info": {
   "codemirror_mode": {
    "name": "ipython",
    "version": 3
   },
   "file_extension": ".py",
   "mimetype": "text/x-python",
   "name": "python",
   "nbconvert_exporter": "python",
   "pygments_lexer": "ipython3",
   "version": "3.10.18"
  }
 },
 "nbformat": 4,
 "nbformat_minor": 5
}
