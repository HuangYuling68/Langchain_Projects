{
 "cells": [
  {
   "cell_type": "code",
   "execution_count": 36,
   "id": "80175ad9",
   "metadata": {},
   "outputs": [],
   "source": [
    "from IPython.display import Image\n"
   ]
  },
  {
   "cell_type": "code",
   "execution_count": 29,
   "id": "1b6bbc5f",
   "metadata": {},
   "outputs": [],
   "source": [
    "import warnings\n",
    "warnings.filterwarnings(\"ignore\")"
   ]
  },
  {
   "cell_type": "code",
   "execution_count": 2,
   "id": "ff8f65a4",
   "metadata": {},
   "outputs": [],
   "source": [
    "from dotenv import load_dotenv\n",
    "assert load_dotenv()"
   ]
  },
  {
   "cell_type": "code",
   "execution_count": 3,
   "id": "697ac03c",
   "metadata": {},
   "outputs": [
    {
     "data": {
      "text/html": [
       "<img src=\"https://wangwei1237.github.io/2023/09/20/Introduction-to-LangChain/langchain.png\" width=\"500\"/>"
      ],
      "text/plain": [
       "<IPython.core.display.Image object>"
      ]
     },
     "execution_count": 3,
     "metadata": {},
     "output_type": "execute_result"
    }
   ],
   "source": [
    "Image(url='https://wangwei1237.github.io/2023/09/20/Introduction-to-LangChain/langchain.png', width=500)"
   ]
  },
  {
   "cell_type": "markdown",
   "id": "22aaa4c4",
   "metadata": {},
   "source": [
    "- https://github.com/hwchase17/langchain-0.1-guides/blob/master/output_parsers.ipynb\n",
    "- lcel => agent\n",
    "  - variable assignment\n",
    "  - prompt template\n",
    "  - llm (with tools)\n",
    "  - output parse"
   ]
  },
  {
   "cell_type": "code",
   "execution_count": 4,
   "id": "da291ca8",
   "metadata": {},
   "outputs": [],
   "source": [
    "from langchain.output_parsers import PydanticOutputParser\n",
    "from pydantic import BaseModel, Field\n",
    "from typing import List"
   ]
  },
  {
   "cell_type": "code",
   "execution_count": 5,
   "id": "27ca1a73",
   "metadata": {},
   "outputs": [],
   "source": [
    "class Ingredient(BaseModel):\n",
    "    name: str = Field(description=\"The name of the ingredient\")\n",
    "    quantity: str = Field(description=\"The specific unit of measurement corresponding to the quantity, such as grams, ounces, liters, etc.\")\n",
    "    unit: str = Field(description=\"The amount of the ingredient required for the recipe. This can be represented using various units such as grams, cups, teaspoons, etc.\")\n",
    "\n",
    "class Recipe(BaseModel):\n",
    "    name: str = Field(description=\"The name of the recipe\")\n",
    "    ingredients: List[Ingredient] = Field(description=\"The list of ingredients for the recipe\")"
   ]
  },
  {
   "cell_type": "code",
   "execution_count": 6,
   "id": "c465d394",
   "metadata": {},
   "outputs": [],
   "source": [
    "parser = PydanticOutputParser(pydantic_object=Recipe)"
   ]
  },
  {
   "cell_type": "code",
   "execution_count": 7,
   "id": "57c14d1c",
   "metadata": {},
   "outputs": [
    {
     "name": "stdout",
     "output_type": "stream",
     "text": [
      "The output should be formatted as a JSON instance that conforms to the JSON schema below.\n",
      "\n",
      "As an example, for the schema {\"properties\": {\"foo\": {\"title\": \"Foo\", \"description\": \"a list of strings\", \"type\": \"array\", \"items\": {\"type\": \"string\"}}}, \"required\": [\"foo\"]}\n",
      "the object {\"foo\": [\"bar\", \"baz\"]} is a well-formatted instance of the schema. The object {\"properties\": {\"foo\": [\"bar\", \"baz\"]}} is not well-formatted.\n",
      "\n",
      "Here is the output schema:\n",
      "```\n",
      "{\"$defs\": {\"Ingredient\": {\"properties\": {\"name\": {\"description\": \"The name of the ingredient\", \"title\": \"Name\", \"type\": \"string\"}, \"quantity\": {\"description\": \"The specific unit of measurement corresponding to the quantity, such as grams, ounces, liters, etc.\", \"title\": \"Quantity\", \"type\": \"string\"}, \"unit\": {\"description\": \"The amount of the ingredient required for the recipe. This can be represented using various units such as grams, cups, teaspoons, etc.\", \"title\": \"Unit\", \"type\": \"string\"}}, \"required\": [\"name\", \"quantity\", \"unit\"], \"title\": \"Ingredient\", \"type\": \"object\"}}, \"properties\": {\"name\": {\"description\": \"The name of the recipe\", \"title\": \"Name\", \"type\": \"string\"}, \"ingredients\": {\"description\": \"The list of ingredients for the recipe\", \"items\": {\"$ref\": \"#/$defs/Ingredient\"}, \"title\": \"Ingredients\", \"type\": \"array\"}}, \"required\": [\"name\", \"ingredients\"]}\n",
      "```\n"
     ]
    }
   ],
   "source": [
    "from rich.pretty import pprint\n",
    "print(parser.get_format_instructions())"
   ]
  },
  {
   "cell_type": "markdown",
   "id": "f20af04f",
   "metadata": {},
   "source": [
    "### converting messages"
   ]
  },
  {
   "cell_type": "code",
   "execution_count": 8,
   "id": "03149d1f",
   "metadata": {},
   "outputs": [],
   "source": [
    "from langchain_openai import ChatOpenAI\n",
    "from langchain_core.prompts import ChatPromptTemplate"
   ]
  },
  {
   "cell_type": "code",
   "execution_count": 9,
   "id": "4c713616",
   "metadata": {},
   "outputs": [],
   "source": [
    "prompt = ChatPromptTemplate.from_template(\"Tell me a joke about {topic}\")\n",
    "model = ChatOpenAI(model='gpt-3.5-turbo')"
   ]
  },
  {
   "cell_type": "code",
   "execution_count": 10,
   "id": "89bce2d7",
   "metadata": {},
   "outputs": [],
   "source": [
    "chain = prompt | model"
   ]
  },
  {
   "cell_type": "code",
   "execution_count": 13,
   "id": "2d13a8f9",
   "metadata": {},
   "outputs": [
    {
     "data": {
      "text/plain": [
       "AIMessage(content='Why did the pig go to the casino?\\n\\nTo play the slop machine!', additional_kwargs={'refusal': None}, response_metadata={'token_usage': {'completion_tokens': 16, 'prompt_tokens': 13, 'total_tokens': 29, 'completion_tokens_details': {'accepted_prediction_tokens': 0, 'audio_tokens': 0, 'reasoning_tokens': 0, 'rejected_prediction_tokens': 0}, 'prompt_tokens_details': {'audio_tokens': 0, 'cached_tokens': 0}}, 'model_name': 'gpt-3.5-turbo-0125', 'system_fingerprint': None, 'id': 'chatcmpl-C7OolDfPxp7vrrgFm16X88ZS9Odnv', 'service_tier': 'default', 'finish_reason': 'stop', 'logprobs': None}, id='run--575bb30c-6c05-4758-8ce5-c121564597f5-0', usage_metadata={'input_tokens': 13, 'output_tokens': 16, 'total_tokens': 29, 'input_token_details': {'audio': 0, 'cache_read': 0}, 'output_token_details': {'audio': 0, 'reasoning': 0}})"
      ]
     },
     "execution_count": 13,
     "metadata": {},
     "output_type": "execute_result"
    }
   ],
   "source": [
    "chain.invoke({'topic': 'pig'})"
   ]
  },
  {
   "cell_type": "code",
   "execution_count": 14,
   "id": "a9edd3a4",
   "metadata": {},
   "outputs": [],
   "source": [
    "from langchain_core.output_parsers import StrOutputParser"
   ]
  },
  {
   "cell_type": "code",
   "execution_count": 15,
   "id": "4671f3d7",
   "metadata": {},
   "outputs": [],
   "source": [
    "parser = StrOutputParser()\n",
    "chain |= parser"
   ]
  },
  {
   "cell_type": "code",
   "execution_count": 16,
   "id": "942dffa4",
   "metadata": {},
   "outputs": [
    {
     "data": {
      "text/plain": [
       "'Why did the pig go to the casino? Because he heard they had a lot of bacon!'"
      ]
     },
     "execution_count": 16,
     "metadata": {},
     "output_type": "execute_result"
    }
   ],
   "source": [
    "chain.invoke({'topic': 'pig'})"
   ]
  },
  {
   "cell_type": "code",
   "execution_count": 17,
   "id": "d7faba26",
   "metadata": {},
   "outputs": [
    {
     "data": {
      "text/plain": [
       "ChatPromptTemplate(input_variables=['topic'], input_types={}, partial_variables={}, messages=[HumanMessagePromptTemplate(prompt=PromptTemplate(input_variables=['topic'], input_types={}, partial_variables={}, template='Tell me a joke about {topic}'), additional_kwargs={})])\n",
       "| ChatOpenAI(client=<openai.resources.chat.completions.completions.Completions object at 0x0000017F87BD0A90>, async_client=<openai.resources.chat.completions.completions.AsyncCompletions object at 0x0000017F87BD0EE0>, root_client=<openai.OpenAI object at 0x0000017F87BD05E0>, root_async_client=<openai.AsyncOpenAI object at 0x0000017F87BD0460>, model_kwargs={}, openai_api_key=SecretStr('**********'))\n",
       "| StrOutputParser()"
      ]
     },
     "execution_count": 17,
     "metadata": {},
     "output_type": "execute_result"
    }
   ],
   "source": [
    "chain"
   ]
  },
  {
   "cell_type": "code",
   "execution_count": 18,
   "id": "e9919526",
   "metadata": {},
   "outputs": [
    {
     "data": {
      "text/plain": [
       "'Why did the pig go to the casino? To bring home the bacon!'"
      ]
     },
     "execution_count": 18,
     "metadata": {},
     "output_type": "execute_result"
    }
   ],
   "source": [
    "chain = prompt | model | parser\n",
    "chain.invoke({'topic': 'pig'})"
   ]
  },
  {
   "cell_type": "code",
   "execution_count": 19,
   "id": "ac7f5183",
   "metadata": {},
   "outputs": [
    {
     "data": {
      "text/plain": [
       "'Why did the apple stop in the middle of the road? \\n\\nBecause it ran out of juice!'"
      ]
     },
     "execution_count": 19,
     "metadata": {},
     "output_type": "execute_result"
    }
   ],
   "source": [
    "chain = {'topic': lambda x:x['input']} | prompt | model | parser\n",
    "chain.invoke({'input': 'apple'})"
   ]
  },
  {
   "cell_type": "markdown",
   "id": "6546e52b",
   "metadata": {},
   "source": [
    "### OpenAI Function Calling"
   ]
  },
  {
   "cell_type": "code",
   "execution_count": 20,
   "id": "ae16db1d",
   "metadata": {},
   "outputs": [],
   "source": [
    "from langchain_core.utils.function_calling import convert_to_openai_function\n",
    "from langchain_core.prompts import ChatPromptTemplate\n",
    "from pydantic import BaseModel, Field, validator"
   ]
  },
  {
   "cell_type": "code",
   "execution_count": 21,
   "id": "fc809d42",
   "metadata": {},
   "outputs": [
    {
     "data": {
      "text/plain": [
       "[{'name': 'Joke',\n",
       "  'description': 'Joke to tell user.',\n",
       "  'parameters': {'properties': {'setup': {'description': 'question to set up a joke',\n",
       "     'type': 'string'},\n",
       "    'punchline': {'description': 'answer to resolve the joke',\n",
       "     'type': 'string'}},\n",
       "   'required': ['setup', 'punchline'],\n",
       "   'type': 'object'}}]"
      ]
     },
     "execution_count": 21,
     "metadata": {},
     "output_type": "execute_result"
    }
   ],
   "source": [
    "class Joke(BaseModel):\n",
    "    \"\"\"Joke to tell user.\"\"\"\n",
    "\n",
    "    setup: str = Field(description=\"question to set up a joke\")\n",
    "    punchline: str = Field(description=\"answer to resolve the joke\")\n",
    "\n",
    "openai_functions = [convert_to_openai_function(Joke)]\n",
    "openai_functions"
   ]
  },
  {
   "cell_type": "code",
   "execution_count": 22,
   "id": "6502c38e",
   "metadata": {},
   "outputs": [],
   "source": [
    "from langchain.output_parsers.openai_functions import JsonOutputFunctionsParser"
   ]
  },
  {
   "cell_type": "code",
   "execution_count": 23,
   "id": "667e37a1",
   "metadata": {},
   "outputs": [],
   "source": [
    "parser = JsonOutputFunctionsParser()"
   ]
  },
  {
   "cell_type": "code",
   "execution_count": 24,
   "id": "2106c875",
   "metadata": {},
   "outputs": [],
   "source": [
    "chain = prompt | model.bind(functions=openai_functions) | parser"
   ]
  },
  {
   "cell_type": "code",
   "execution_count": 25,
   "id": "07028859",
   "metadata": {},
   "outputs": [
    {
     "data": {
      "text/plain": [
       "{'setup': 'What do you call a pig that knows karate?',\n",
       " 'punchline': 'A pork chop!'}"
      ]
     },
     "execution_count": 25,
     "metadata": {},
     "output_type": "execute_result"
    }
   ],
   "source": [
    "chain.invoke({'topic': 'pig'})"
   ]
  },
  {
   "cell_type": "markdown",
   "id": "d7f705ae",
   "metadata": {},
   "source": [
    "### PydanticOutputParser"
   ]
  },
  {
   "cell_type": "code",
   "execution_count": 27,
   "id": "33b441fa",
   "metadata": {},
   "outputs": [],
   "source": [
    "class WritingScore(BaseModel):\n",
    "    readability: int\n",
    "    conciseness:int"
   ]
  },
  {
   "cell_type": "code",
   "execution_count": 32,
   "id": "7d9ffbe3",
   "metadata": {},
   "outputs": [
    {
     "data": {
      "text/plain": [
       "{'properties': {'readability': {'title': 'Readability', 'type': 'integer'},\n",
       "  'conciseness': {'title': 'Conciseness', 'type': 'integer'}},\n",
       " 'required': ['readability', 'conciseness'],\n",
       " 'title': 'WritingScore',\n",
       " 'type': 'object'}"
      ]
     },
     "execution_count": 32,
     "metadata": {},
     "output_type": "execute_result"
    }
   ],
   "source": [
    "schema = WritingScore.model_json_schema()\n",
    "schema"
   ]
  },
  {
   "cell_type": "code",
   "execution_count": 33,
   "id": "dd3e2ccc",
   "metadata": {},
   "outputs": [],
   "source": [
    "resp = \"\"\"```\n",
    "{\n",
    "  \"readability\": 8,\n",
    "  \"conciseness\": 9\n",
    "}\n",
    "```\"\"\""
   ]
  },
  {
   "cell_type": "code",
   "execution_count": 34,
   "id": "2fd170d7",
   "metadata": {},
   "outputs": [],
   "source": [
    "parser = PydanticOutputParser(pydantic_object=WritingScore)"
   ]
  },
  {
   "cell_type": "code",
   "execution_count": 35,
   "id": "20112dfa",
   "metadata": {},
   "outputs": [
    {
     "data": {
      "text/plain": [
       "WritingScore(readability=8, conciseness=9)"
      ]
     },
     "execution_count": 35,
     "metadata": {},
     "output_type": "execute_result"
    }
   ],
   "source": [
    "parser.parse(resp)"
   ]
  }
 ],
 "metadata": {
  "kernelspec": {
   "display_name": "llm_env",
   "language": "python",
   "name": "python3"
  },
  "language_info": {
   "codemirror_mode": {
    "name": "ipython",
    "version": 3
   },
   "file_extension": ".py",
   "mimetype": "text/x-python",
   "name": "python",
   "nbconvert_exporter": "python",
   "pygments_lexer": "ipython3",
   "version": "3.10.18"
  }
 },
 "nbformat": 4,
 "nbformat_minor": 5
}
