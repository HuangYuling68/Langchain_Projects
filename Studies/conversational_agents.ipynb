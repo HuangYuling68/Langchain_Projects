{
 "cells": [
  {
   "cell_type": "code",
   "execution_count": 1,
   "id": "f87dd462",
   "metadata": {},
   "outputs": [
    {
     "data": {
      "text/plain": [
       "True"
      ]
     },
     "execution_count": 1,
     "metadata": {},
     "output_type": "execute_result"
    }
   ],
   "source": [
    "from IPython.display import Image\n",
    "import os\n",
    "from dotenv import load_dotenv\n",
    "load_dotenv()"
   ]
  },
  {
   "cell_type": "markdown",
   "id": "fe1a550f",
   "metadata": {},
   "source": [
    "## 认识 Concepts\n",
    "- 过程信息（所谓的对话式 agent，conversational agents，就是带记忆）\n",
    "        - stateless LLMs => with memory (maintaining previous interactions)\n",
    "        - intermediate_steps： list of actions/tools (input, output)\n",
    "            - agent_scratchpad（草稿本）：list of tool messages\n",
    "        - 第一次 query-resp 之后，才会有这些过程信息\n",
    "            - 第一次：`intermediate_steps: []`, `agent_scratchpad: `\n",
    "    - chat history\n",
    "        - messages (openai 的 api)\n",
    "        - system, user, assistant, user assistant ...\n",
    "    - langsmith: 监控所有的 messages (input, output)"
   ]
  },
  {
   "cell_type": "markdown",
   "id": "eb143496",
   "metadata": {},
   "source": [
    "## ReAct (Reasoning & Acting)\n",
    "- https://arxiv.org/abs/2210.03629\n",
    "    - ReAct（经典、且general、应用广泛的 prompt）\n",
    "        - User query => (Thought -> Action (Action Input) -> Observation(Action Ouptut)) * N\n",
    "            - Action input => output, function decision & calling\n",
    "        - multi-step/hops reasoning/interacting\n",
    "        - 跟 function calling（LangChain 中的 tools）天然地适配；"
   ]
  },
  {
   "cell_type": "code",
   "execution_count": 2,
   "id": "fadef5ff",
   "metadata": {},
   "outputs": [],
   "source": [
    "from langchain import hub\n",
    "prompt = hub.pull(\"hwchase17/react\")"
   ]
  },
  {
   "cell_type": "code",
   "execution_count": 3,
   "id": "dc06554a",
   "metadata": {},
   "outputs": [
    {
     "data": {
      "text/plain": [
       "(langchain_core.prompts.prompt.PromptTemplate,\n",
       " PromptTemplate(input_variables=['agent_scratchpad', 'input', 'tool_names', 'tools'], input_types={}, partial_variables={}, metadata={'lc_hub_owner': 'hwchase17', 'lc_hub_repo': 'react', 'lc_hub_commit_hash': 'd15fe3c426f1c4b3f37c9198853e4a86e20c425ca7f4752ec0c9b0e97ca7ea4d'}, template='Answer the following questions as best you can. You have access to the following tools:\\n\\n{tools}\\n\\nUse the following format:\\n\\nQuestion: the input question you must answer\\nThought: you should always think about what to do\\nAction: the action to take, should be one of [{tool_names}]\\nAction Input: the input to the action\\nObservation: the result of the action\\n... (this Thought/Action/Action Input/Observation can repeat N times)\\nThought: I now know the final answer\\nFinal Answer: the final answer to the original input question\\n\\nBegin!\\n\\nQuestion: {input}\\nThought:{agent_scratchpad}'))"
      ]
     },
     "execution_count": 3,
     "metadata": {},
     "output_type": "execute_result"
    }
   ],
   "source": [
    "type(prompt), prompt"
   ]
  },
  {
   "cell_type": "code",
   "execution_count": 4,
   "id": "03927fa9",
   "metadata": {},
   "outputs": [
    {
     "name": "stdout",
     "output_type": "stream",
     "text": [
      "Answer the following questions as best you can. You have access to the following tools:\n",
      "\n",
      "{tools}\n",
      "\n",
      "Use the following format:\n",
      "\n",
      "Question: the input question you must answer\n",
      "Thought: you should always think about what to do\n",
      "Action: the action to take, should be one of [{tool_names}]\n",
      "Action Input: the input to the action\n",
      "Observation: the result of the action\n",
      "... (this Thought/Action/Action Input/Observation can repeat N times)\n",
      "Thought: I now know the final answer\n",
      "Final Answer: the final answer to the original input question\n",
      "\n",
      "Begin!\n",
      "\n",
      "Question: {input}\n",
      "Thought:{agent_scratchpad}\n"
     ]
    }
   ],
   "source": [
    "# 一个完整的 prompt 模板，历史对话/函数调用（输入输出）信息不断地追加在这一个 prompt 中，而不是维护成 messages list\n",
    "print(prompt.template)"
   ]
  },
  {
   "cell_type": "markdown",
   "id": "147d59f6",
   "metadata": {},
   "source": [
    "- Thought: you should always think about what to do\n",
    "- Action: the action to take, should be one of `[{tool_names}]`\n",
    "- Action Input: the input to the action\n",
    "- Observation: the result of the action\n",
    "- ... (this Thought/Action/Action Input/Observation can repeat N times)"
   ]
  },
  {
   "cell_type": "markdown",
   "id": "a9028ff1",
   "metadata": {},
   "source": [
    "### Langchain Projects"
   ]
  },
  {
   "cell_type": "code",
   "execution_count": 5,
   "id": "01ea9630",
   "metadata": {},
   "outputs": [
    {
     "data": {
      "text/html": [
       "<img src=\"https://miro.medium.com/v2/resize:fit:1400/format:webp/1*bkNjqXR1LjAVJQbNLpfYvA.png\" width=\"500\"/>"
      ],
      "text/plain": [
       "<IPython.core.display.Image object>"
      ]
     },
     "execution_count": 5,
     "metadata": {},
     "output_type": "execute_result"
    }
   ],
   "source": [
    "Image(url='https://miro.medium.com/v2/resize:fit:1400/format:webp/1*bkNjqXR1LjAVJQbNLpfYvA.png', width=500)"
   ]
  },
  {
   "cell_type": "markdown",
   "id": "63836fae",
   "metadata": {},
   "source": [
    "- AgentExecutor：agent that is using tools\n",
    "\n",
    "    ```\n",
    "    next_action = agent.get_action(...)  \n",
    "    while next_action != AgentFinish:\n",
    "      observation = run(next_action)\n",
    "      next_action = agent.get_action(..., next_action, observation)\n",
    "    return next_action\n",
    "    ```"
   ]
  },
  {
   "cell_type": "code",
   "execution_count": 6,
   "id": "ad8f80c9",
   "metadata": {},
   "outputs": [],
   "source": [
    "os.environ[\"LANGCHAIN_PROJECT\"] = 'conversational_agents'"
   ]
  },
  {
   "cell_type": "code",
   "execution_count": 7,
   "id": "dcba6ba2",
   "metadata": {},
   "outputs": [],
   "source": [
    "from langchain_openai import ChatOpenAI\n",
    "from langchain.tools import tool\n",
    "from langchain.agents import AgentExecutor, create_react_agent"
   ]
  },
  {
   "cell_type": "code",
   "execution_count": 9,
   "id": "e31ed21b",
   "metadata": {},
   "outputs": [],
   "source": [
    "@tool\n",
    "def get_employee_id(name):\n",
    "  \"\"\"\n",
    "  To get employee id, it takes employee name as arguments\n",
    "  name(str): Name of the employee\n",
    "  \"\"\"\n",
    "  fake_employees = {\n",
    "    \"Alice\": \"E001\", \"Bob\": \"E002\", \"Charlie\": \"E003\",\n",
    "    \"Diana\": \"E004\", \"Evan\": \"E005\", \"Fiona\": \"E006\",\n",
    "    \"George\": \"E007\", \"Hannah\": \"E008\", \"Ian\": \"E009\",\n",
    "    \"Jasmine\": \"E010\"\n",
    "  }\n",
    "  \n",
    "  return fake_employees.get(name, \"Employee not found\")\n",
    "\n",
    "# Custom tool for the Agent \n",
    "# ValueError: Function must have a docstring if description not provided.\n",
    "@tool\n",
    "def get_employee_salary(employee_id):\n",
    "  \"\"\"\n",
    "  To get the salary of an employee, it takes employee_id as input and return salary\n",
    "  \"\"\"\n",
    "  employee_salaries = {\n",
    "    \"E001\": 56000, \"E002\": 47000, \"E003\": 52000,\n",
    "    \"E004\": 61000, \"E005\": 45000, \"E006\": 58000,\n",
    "    \"E007\": 49000, \"E008\": 53000, \"E009\": 50000,\n",
    "    \"E010\": 55000\n",
    "    }\n",
    "  return employee_salaries.get(employee_id,\"Employee not found\")"
   ]
  },
  {
   "cell_type": "code",
   "execution_count": 11,
   "id": "d9560053",
   "metadata": {},
   "outputs": [
    {
     "name": "stdout",
     "output_type": "stream",
     "text": [
      "\n",
      "\n",
      "\u001b[1m> Entering new AgentExecutor chain...\u001b[0m\n",
      "\u001b[32;1m\u001b[1;3mTo find Evan's salary, I first need to know Evan's employee ID. Once I have the employee ID, I can then retrieve the salary.\n",
      "\n",
      "Action: get_employee_id\n",
      "Action Input: \"Evan\"\u001b[0m\u001b[33;1m\u001b[1;3mE005\u001b[0m\u001b[32;1m\u001b[1;3mNow that I have Evan's employee ID, I can retrieve his salary using this ID.\n",
      "\n",
      "Action: get_employee_salary\n",
      "Action Input: \"E005\"\u001b[0m\u001b[36;1m\u001b[1;3m45000\u001b[0m\u001b[32;1m\u001b[1;3mI now know the final answer. \n",
      "\n",
      "Final Answer: Evan's salary is 45,000.\u001b[0m\n",
      "\n",
      "\u001b[1m> Finished chain.\u001b[0m\n"
     ]
    },
    {
     "data": {
      "text/plain": [
       "{'input': 'What is the Salary of Evan?', 'output': \"Evan's salary is 45,000.\"}"
      ]
     },
     "execution_count": 11,
     "metadata": {},
     "output_type": "execute_result"
    }
   ],
   "source": [
    "prompt = hub.pull(\"hwchase17/react\")\n",
    "llm = ChatOpenAI(model='gpt-4o')\n",
    "tools = [get_employee_salary, get_employee_id]\n",
    "agent = create_react_agent(llm, tools, prompt)\n",
    "agent_executor = AgentExecutor(agent=agent, tools=tools, verbose=True)\n",
    "agent_executor.invoke({\"input\": \"What is the Salary of Evan?\"})"
   ]
  },
  {
   "cell_type": "code",
   "execution_count": 12,
   "id": "439498bb",
   "metadata": {},
   "outputs": [
    {
     "data": {
      "text/html": [
       "<img src=\"https://miro.medium.com/v2/resize:fit:1100/format:webp/0*j5T9A2o7AqQkk6lS\" width=\"500\"/>"
      ],
      "text/plain": [
       "<IPython.core.display.Image object>"
      ]
     },
     "execution_count": 12,
     "metadata": {},
     "output_type": "execute_result"
    }
   ],
   "source": [
    "Image(url='https://miro.medium.com/v2/resize:fit:1100/format:webp/0*j5T9A2o7AqQkk6lS', width=500)"
   ]
  },
  {
   "cell_type": "markdown",
   "id": "027070f8",
   "metadata": {},
   "source": [
    "### 显式地 操作 agent_scratchpad 与 intermediate_steps\n",
    "https://python.langchain.com/v0.1/docs/modules/agents/how_to/custom_agent/\n",
    "\n",
    "- `format_to_openai_tool_messages`\n",
    "   - https://api.python.langchain.com/en/latest/_modules/langchain/agents/format_scratchpad/openai_tools.html#format_to_openai_tool_messages"
   ]
  },
  {
   "cell_type": "code",
   "execution_count": 13,
   "id": "21f47461",
   "metadata": {},
   "outputs": [],
   "source": [
    "os.environ[\"LANGCHAIN_PROJECT\"] = 'memory_agents'"
   ]
  },
  {
   "cell_type": "code",
   "execution_count": 14,
   "id": "ba455c4e",
   "metadata": {},
   "outputs": [
    {
     "data": {
      "text/plain": [
       "3"
      ]
     },
     "execution_count": 14,
     "metadata": {},
     "output_type": "execute_result"
    }
   ],
   "source": [
    "@tool\n",
    "def get_word_length(word: str) -> int:\n",
    "    \"\"\"Returns the length of a word.\"\"\"\n",
    "    return len(word)\n",
    "\n",
    "\n",
    "get_word_length.invoke(\"abc\")"
   ]
  },
  {
   "cell_type": "code",
   "execution_count": 15,
   "id": "515cc063",
   "metadata": {},
   "outputs": [],
   "source": [
    "tools = [get_word_length]\n",
    "from langchain_core.prompts import ChatPromptTemplate, MessagesPlaceholder\n",
    "\n",
    "prompt = ChatPromptTemplate.from_messages(\n",
    "    [\n",
    "        (\n",
    "            \"system\",\n",
    "            \"You are very powerful assistant, but don't know current events\",\n",
    "        ),\n",
    "        (\"user\", \"{input}\"),\n",
    "        MessagesPlaceholder(variable_name=\"agent_scratchpad\"),\n",
    "    ]\n",
    ")\n",
    "llm = ChatOpenAI(model=\"gpt-4o\", temperature=0)\n",
    "llm_with_tools = llm.bind_tools(tools)"
   ]
  },
  {
   "cell_type": "code",
   "execution_count": 17,
   "id": "74fd9ac9",
   "metadata": {},
   "outputs": [],
   "source": [
    "from langchain.agents.format_scratchpad.openai_tools import (\n",
    "    format_to_openai_tool_messages,\n",
    ")\n",
    "from langchain.agents.output_parsers.openai_tools import OpenAIToolsAgentOutputParser\n",
    "\n",
    "# runnable Sequence，根据需要循环执行这 4 步；\n",
    "agent = (\n",
    "    {\n",
    "        \"input\": lambda x: x[\"input\"],\n",
    "        \"agent_scratchpad\": lambda x: format_to_openai_tool_messages(\n",
    "            x[\"intermediate_steps\"]\n",
    "        ),\n",
    "    }\n",
    "    | prompt\n",
    "    | llm_with_tools\n",
    "    | OpenAIToolsAgentOutputParser()\n",
    ")\n",
    "\n",
    "agent_executor = AgentExecutor(agent=agent, tools=tools, verbose=True)"
   ]
  },
  {
   "cell_type": "code",
   "execution_count": 18,
   "id": "c8aaeff7",
   "metadata": {},
   "outputs": [
    {
     "name": "stdout",
     "output_type": "stream",
     "text": [
      "\n",
      "\n",
      "\u001b[1m> Entering new None chain...\u001b[0m\n",
      "\u001b[32;1m\u001b[1;3m\n",
      "Invoking: `get_word_length` with `{'word': 'eudca'}`\n",
      "\n",
      "\n",
      "\u001b[0m\u001b[36;1m\u001b[1;3m5\u001b[0m\u001b[32;1m\u001b[1;3mThe word \"eudca\" has 5 letters.\u001b[0m\n",
      "\n",
      "\u001b[1m> Finished chain.\u001b[0m\n"
     ]
    }
   ],
   "source": [
    "process_list = list(agent_executor.stream({\"input\": \"How many letters in the word eudca\"}))"
   ]
  },
  {
   "cell_type": "code",
   "execution_count": 19,
   "id": "8327fc4c",
   "metadata": {},
   "outputs": [
    {
     "data": {
      "text/plain": [
       "[{'actions': [ToolAgentAction(tool='get_word_length', tool_input={'word': 'eudca'}, log=\"\\nInvoking: `get_word_length` with `{'word': 'eudca'}`\\n\\n\\n\", message_log=[AIMessageChunk(content='', additional_kwargs={'tool_calls': [{'index': 0, 'id': 'call_BDXRtb693xByIrB26EoOjaXG', 'function': {'arguments': '{\"word\":\"eudca\"}', 'name': 'get_word_length'}, 'type': 'function'}]}, response_metadata={'finish_reason': 'tool_calls', 'model_name': 'gpt-4o-2024-08-06', 'system_fingerprint': 'fp_80956533cb', 'service_tier': 'default'}, id='run--bc14ca60-1259-4b34-9e76-c2e63c9f7085', tool_calls=[{'name': 'get_word_length', 'args': {'word': 'eudca'}, 'id': 'call_BDXRtb693xByIrB26EoOjaXG', 'type': 'tool_call'}], tool_call_chunks=[{'name': 'get_word_length', 'args': '{\"word\":\"eudca\"}', 'id': 'call_BDXRtb693xByIrB26EoOjaXG', 'index': 0, 'type': 'tool_call_chunk'}])], tool_call_id='call_BDXRtb693xByIrB26EoOjaXG')],\n",
       "  'messages': [AIMessageChunk(content='', additional_kwargs={'tool_calls': [{'index': 0, 'id': 'call_BDXRtb693xByIrB26EoOjaXG', 'function': {'arguments': '{\"word\":\"eudca\"}', 'name': 'get_word_length'}, 'type': 'function'}]}, response_metadata={'finish_reason': 'tool_calls', 'model_name': 'gpt-4o-2024-08-06', 'system_fingerprint': 'fp_80956533cb', 'service_tier': 'default'}, id='run--bc14ca60-1259-4b34-9e76-c2e63c9f7085', tool_calls=[{'name': 'get_word_length', 'args': {'word': 'eudca'}, 'id': 'call_BDXRtb693xByIrB26EoOjaXG', 'type': 'tool_call'}], tool_call_chunks=[{'name': 'get_word_length', 'args': '{\"word\":\"eudca\"}', 'id': 'call_BDXRtb693xByIrB26EoOjaXG', 'index': 0, 'type': 'tool_call_chunk'}])]},\n",
       " {'steps': [AgentStep(action=ToolAgentAction(tool='get_word_length', tool_input={'word': 'eudca'}, log=\"\\nInvoking: `get_word_length` with `{'word': 'eudca'}`\\n\\n\\n\", message_log=[AIMessageChunk(content='', additional_kwargs={'tool_calls': [{'index': 0, 'id': 'call_BDXRtb693xByIrB26EoOjaXG', 'function': {'arguments': '{\"word\":\"eudca\"}', 'name': 'get_word_length'}, 'type': 'function'}]}, response_metadata={'finish_reason': 'tool_calls', 'model_name': 'gpt-4o-2024-08-06', 'system_fingerprint': 'fp_80956533cb', 'service_tier': 'default'}, id='run--bc14ca60-1259-4b34-9e76-c2e63c9f7085', tool_calls=[{'name': 'get_word_length', 'args': {'word': 'eudca'}, 'id': 'call_BDXRtb693xByIrB26EoOjaXG', 'type': 'tool_call'}], tool_call_chunks=[{'name': 'get_word_length', 'args': '{\"word\":\"eudca\"}', 'id': 'call_BDXRtb693xByIrB26EoOjaXG', 'index': 0, 'type': 'tool_call_chunk'}])], tool_call_id='call_BDXRtb693xByIrB26EoOjaXG'), observation=5)],\n",
       "  'messages': [FunctionMessage(content='5', additional_kwargs={}, response_metadata={}, name='get_word_length')]},\n",
       " {'output': 'The word \"eudca\" has 5 letters.',\n",
       "  'messages': [AIMessage(content='The word \"eudca\" has 5 letters.', additional_kwargs={}, response_metadata={})]}]"
      ]
     },
     "execution_count": 19,
     "metadata": {},
     "output_type": "execute_result"
    }
   ],
   "source": [
    "process_list"
   ]
  },
  {
   "cell_type": "code",
   "execution_count": 20,
   "id": "244c3c00",
   "metadata": {},
   "outputs": [],
   "source": [
    "from langchain_core.prompts import MessagesPlaceholder\n",
    "\n",
    "MEMORY_KEY = \"chat_history\"\n",
    "prompt = ChatPromptTemplate.from_messages(\n",
    "    [\n",
    "        (\n",
    "            \"system\",\n",
    "            \"You are very powerful assistant, but bad at calculating lengths of words.\",\n",
    "        ),\n",
    "        MessagesPlaceholder(variable_name=MEMORY_KEY),\n",
    "        (\"user\", \"{input}\"),\n",
    "        MessagesPlaceholder(variable_name=\"agent_scratchpad\"),\n",
    "    ]\n",
    ")"
   ]
  },
  {
   "cell_type": "code",
   "execution_count": 21,
   "id": "8e3c0a8a",
   "metadata": {},
   "outputs": [],
   "source": [
    "from langchain_core.messages import AIMessage, HumanMessage\n",
    "\n",
    "chat_history = []"
   ]
  },
  {
   "cell_type": "code",
   "execution_count": 23,
   "id": "f5b12514",
   "metadata": {},
   "outputs": [],
   "source": [
    "agent = (\n",
    "    {\n",
    "        \"input\": lambda x: x[\"input\"],\n",
    "        \"agent_scratchpad\": lambda x: format_to_openai_tool_messages(\n",
    "            x[\"intermediate_steps\"]\n",
    "        ),\n",
    "        \"chat_history\": lambda x: x[\"chat_history\"],\n",
    "    }\n",
    "    | prompt\n",
    "    | llm_with_tools\n",
    "    | OpenAIToolsAgentOutputParser()\n",
    ")\n",
    "agent_executor = AgentExecutor(agent=agent, tools=tools, verbose=True)"
   ]
  },
  {
   "cell_type": "code",
   "execution_count": 24,
   "id": "a285c057",
   "metadata": {},
   "outputs": [
    {
     "name": "stdout",
     "output_type": "stream",
     "text": [
      "\n",
      "\n",
      "\u001b[1m> Entering new AgentExecutor chain...\u001b[0m\n",
      "\u001b[32;1m\u001b[1;3m\n",
      "Invoking: `get_word_length` with `{'word': 'educa'}`\n",
      "\n",
      "\n",
      "\u001b[0m\u001b[36;1m\u001b[1;3m5\u001b[0m\u001b[32;1m\u001b[1;3mThe word \"educa\" has 5 letters.\u001b[0m\n",
      "\n",
      "\u001b[1m> Finished chain.\u001b[0m\n",
      "\n",
      "\n",
      "\u001b[1m> Entering new AgentExecutor chain...\u001b[0m\n",
      "\u001b[32;1m\u001b[1;3m\"Educa\" is not a standard English word. However, it might be used as a name, abbreviation, or in other languages. In some contexts, it could be short for \"education\" or related terms.\u001b[0m\n",
      "\n",
      "\u001b[1m> Finished chain.\u001b[0m\n"
     ]
    },
    {
     "data": {
      "text/plain": [
       "{'input': 'is that a real word?',\n",
       " 'chat_history': [HumanMessage(content='how many letters in the word educa?', additional_kwargs={}, response_metadata={}),\n",
       "  AIMessage(content='The word \"educa\" has 5 letters.', additional_kwargs={}, response_metadata={})],\n",
       " 'output': '\"Educa\" is not a standard English word. However, it might be used as a name, abbreviation, or in other languages. In some contexts, it could be short for \"education\" or related terms.'}"
      ]
     },
     "execution_count": 24,
     "metadata": {},
     "output_type": "execute_result"
    }
   ],
   "source": [
    "input1 = \"how many letters in the word educa?\"\n",
    "result = agent_executor.invoke({\"input\": input1, \n",
    "                                \"chat_history\": chat_history})\n",
    "chat_history.extend(\n",
    "    [\n",
    "        HumanMessage(content=input1),\n",
    "        AIMessage(content=result[\"output\"]),\n",
    "    ]\n",
    ")\n",
    "agent_executor.invoke({\"input\": \"is that a real word?\", \n",
    "                       \"chat_history\": chat_history})"
   ]
  },
  {
   "cell_type": "code",
   "execution_count": 25,
   "id": "57ac9d59",
   "metadata": {},
   "outputs": [
    {
     "name": "stdout",
     "output_type": "stream",
     "text": [
      "\n",
      "\n",
      "\u001b[1m> Entering new AgentExecutor chain...\u001b[0m\n",
      "\u001b[32;1m\u001b[1;3m\n",
      "Invoking: `get_word_length` with `{'word': 'dadebfdr'}`\n",
      "\n",
      "\n",
      "\u001b[0m\u001b[36;1m\u001b[1;3m8\u001b[0m\u001b[32;1m\u001b[1;3mThe word \"dadebfdr\" has 8 letters.\u001b[0m\n",
      "\n",
      "\u001b[1m> Finished chain.\u001b[0m\n",
      "\n",
      "\n",
      "\u001b[1m> Entering new AgentExecutor chain...\u001b[0m\n",
      "\u001b[32;1m\u001b[1;3mNo, \"dadebfdr\" is not a recognized word in the English language. It appears to be a random string of letters.\u001b[0m\n",
      "\n",
      "\u001b[1m> Finished chain.\u001b[0m\n"
     ]
    },
    {
     "data": {
      "text/plain": [
       "{'input': 'is that a real word?',\n",
       " 'chat_history': [HumanMessage(content='how many letters in the word dadebfdr?', additional_kwargs={}, response_metadata={}),\n",
       "  AIMessage(content='The word \"dadebfdr\" has 8 letters.', additional_kwargs={}, response_metadata={})],\n",
       " 'output': 'No, \"dadebfdr\" is not a recognized word in the English language. It appears to be a random string of letters.'}"
      ]
     },
     "execution_count": 25,
     "metadata": {},
     "output_type": "execute_result"
    }
   ],
   "source": [
    "chat_history = []\n",
    "# https://smith.langchain.com/hub/hwchase17/openai-functions-agent\n",
    "# input_variables=['agent_scratchpad', 'input'], optional_variables=['chat_history']\n",
    "prompt = hub.pull('hwchase17/openai-functions-agent')\n",
    "agent = (\n",
    "    {\n",
    "        \"input\": lambda x: x[\"input\"],\n",
    "        \"agent_scratchpad\": lambda x: format_to_openai_tool_messages(\n",
    "            x[\"intermediate_steps\"]\n",
    "        ),\n",
    "        \"chat_history\": lambda x: x[\"chat_history\"],\n",
    "    }\n",
    "    | prompt\n",
    "    | llm_with_tools\n",
    "    | OpenAIToolsAgentOutputParser()\n",
    ")\n",
    "agent_executor = AgentExecutor(agent=agent, tools=tools, verbose=True)\n",
    "input1 = \"how many letters in the word dadebfdr?\"\n",
    "result = agent_executor.invoke({\"input\": input1, \n",
    "                                \"chat_history\": chat_history})\n",
    "chat_history.extend(\n",
    "    [\n",
    "        HumanMessage(content=input1),\n",
    "        AIMessage(content=result[\"output\"]),\n",
    "    ]\n",
    ")\n",
    "agent_executor.invoke({\"input\": \"is that a real word?\", \n",
    "                       \"chat_history\": chat_history})"
   ]
  }
 ],
 "metadata": {
  "kernelspec": {
   "display_name": "llm_env",
   "language": "python",
   "name": "python3"
  },
  "language_info": {
   "codemirror_mode": {
    "name": "ipython",
    "version": 3
   },
   "file_extension": ".py",
   "mimetype": "text/x-python",
   "name": "python",
   "nbconvert_exporter": "python",
   "pygments_lexer": "ipython3",
   "version": "3.10.18"
  }
 },
 "nbformat": 4,
 "nbformat_minor": 5
}
